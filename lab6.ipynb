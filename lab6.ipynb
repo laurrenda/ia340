{
 "cells": [
  {
   "cell_type": "markdown",
   "id": "b34cf4bc",
   "metadata": {},
   "source": [
    "# Import Libraries"
   ]
  },
  {
   "cell_type": "code",
   "execution_count": 1,
   "id": "1608e1cd",
   "metadata": {},
   "outputs": [
    {
     "name": "stderr",
     "output_type": "stream",
     "text": [
      "/home/ec2-user/anaconda3/envs/python3/lib/python3.6/site-packages/psycopg2/__init__.py:144: UserWarning: The psycopg2 wheel package will be renamed from release 2.8; in order to keep installing from binary please use \"pip install psycopg2-binary\" instead. For details see: <http://initd.org/psycopg/docs/install.html#binary-install-from-pypi>.\n",
      "  \"\"\")\n"
     ]
    }
   ],
   "source": [
    "import pandas\n",
    "import configparser\n",
    "import psycopg2"
   ]
  },
  {
   "cell_type": "code",
   "execution_count": 2,
   "id": "f633a574",
   "metadata": {},
   "outputs": [],
   "source": [
    "config = configparser.ConfigParser()\n",
    "config.read('config.ini')\n",
    "\n",
    "host = config['myaws']['host']\n",
    "db = config['myaws']['db']\n",
    "user = config['myaws']['user']\n",
    "pwd = config['myaws']['pwd']"
   ]
  },
  {
   "cell_type": "code",
   "execution_count": 3,
   "id": "7b9bd076",
   "metadata": {},
   "outputs": [],
   "source": [
    "conn = psycopg2.connect(host = host,\n",
    "                       user = user,\n",
    "                        password = pwd,\n",
    "                        dbname = db\n",
    "                       )\n",
    "cur = conn.cursor()"
   ]
  },
  {
   "cell_type": "markdown",
   "id": "31579293",
   "metadata": {},
   "source": [
    "## Create House Table"
   ]
  },
  {
   "cell_type": "code",
   "execution_count": 6,
   "id": "311f9e2e",
   "metadata": {},
   "outputs": [],
   "source": [
    "table_sql = \"\"\"\n",
    "            CREATE TABLE IF NOT EXISTS gp8.house\n",
    "            (\n",
    "\n",
    "                price integer,\n",
    "                bed integer,\n",
    "                bath integer,\n",
    "                area integer,\n",
    "                address VARCHAR(200),\n",
    "                PRIMARY KEY(address)\n",
    "            );\n",
    "\n",
    "            \"\"\""
   ]
  },
  {
   "cell_type": "code",
   "execution_count": 7,
   "id": "e0cfec85",
   "metadata": {},
   "outputs": [],
   "source": [
    "cur.execute(table_sql)\n",
    "conn.commit()"
   ]
  },
  {
   "cell_type": "markdown",
   "id": "72249fb1",
   "metadata": {},
   "source": [
    "## Define Search Region"
   ]
  },
  {
   "cell_type": "code",
   "execution_count": 8,
   "id": "7e3fa9ca",
   "metadata": {},
   "outputs": [],
   "source": [
    "url = 'https://www.trulia.com/NJ/Hamilton/08690/'"
   ]
  },
  {
   "cell_type": "code",
   "execution_count": 11,
   "id": "714d9ff3",
   "metadata": {},
   "outputs": [],
   "source": [
    "import urllib.request\n",
    "response = urllib.request.urlopen(url)\n",
    "html_data= response.read()\n",
    "#print(html_data.decode('utf-8'))"
   ]
  },
  {
   "cell_type": "code",
   "execution_count": 13,
   "id": "a63f104e",
   "metadata": {},
   "outputs": [],
   "source": [
    "from bs4 import BeautifulSoup\n",
    "soup = BeautifulSoup(html_data,'html.parser')\n",
    "#print (soup)"
   ]
  },
  {
   "cell_type": "markdown",
   "id": "18e19708",
   "metadata": {},
   "source": [
    "## Insert Records Into Database"
   ]
  },
  {
   "cell_type": "code",
   "execution_count": 15,
   "id": "d7d309f2",
   "metadata": {},
   "outputs": [],
   "source": [
    "for li_class in soup.find_all('li', class_ = 'Grid__CellBox-sc-144isrp-0 SearchResultsList__WideCell-b7y9ki-2 jiZmPM'):\n",
    "    try:\n",
    "        for price_div in li_class.find_all('div',{'data-testid':'property-price'}):\n",
    "            price =int(price_div.text.replace('$','').replace(\",\",\"\"))\n",
    "        for bed_div in li_class.find_all('div', {'data-testid':'property-beds'}):\n",
    "            bed= int(bed_div.text.replace('bd','').replace(\",\",\"\"))\n",
    "        for bath_div in li_class.find_all('div',{'data-testid':'property-baths'}):\n",
    "            bath =int(bath_div.text.replace('ba','').replace(\",\",\"\"))\n",
    "        for area_div in li_class.find_all('div',{'data-testid':'property-floorSpace'}):\n",
    "            area=int(area_div.text.split('sqft')[0].replace(\",\",\"\"))\n",
    "        for address_div in li_class.find_all('div',{'data-testid':'property-address'}):\n",
    "            address =address_div.text\n",
    "\n",
    "        try:\n",
    "            sql_insert = \"\"\"\n",
    "                        insert into gp8.house(price,bed,bath,area,address)\n",
    "                        values('{}','{}','{}','{}','{}')            \n",
    "                        \"\"\".format(price,bed,bath,area,address)\n",
    "\n",
    "            cur.execute(sql_insert)\n",
    "            conn.commit()\n",
    "        except:\n",
    "            conn.rollback()\n",
    "    except:\n",
    "        pass"
   ]
  },
  {
   "cell_type": "markdown",
   "id": "b919c594",
   "metadata": {},
   "source": [
    "## Query the Table"
   ]
  },
  {
   "cell_type": "code",
   "execution_count": 16,
   "id": "4b0c831b",
   "metadata": {},
   "outputs": [
    {
     "data": {
      "text/html": [
       "<div>\n",
       "<style scoped>\n",
       "    .dataframe tbody tr th:only-of-type {\n",
       "        vertical-align: middle;\n",
       "    }\n",
       "\n",
       "    .dataframe tbody tr th {\n",
       "        vertical-align: top;\n",
       "    }\n",
       "\n",
       "    .dataframe thead th {\n",
       "        text-align: right;\n",
       "    }\n",
       "</style>\n",
       "<table border=\"1\" class=\"dataframe\">\n",
       "  <thead>\n",
       "    <tr style=\"text-align: right;\">\n",
       "      <th></th>\n",
       "      <th>price</th>\n",
       "      <th>bed</th>\n",
       "      <th>bath</th>\n",
       "      <th>area</th>\n",
       "      <th>address</th>\n",
       "    </tr>\n",
       "  </thead>\n",
       "  <tbody>\n",
       "    <tr>\n",
       "      <th>0</th>\n",
       "      <td>225000</td>\n",
       "      <td>5</td>\n",
       "      <td>3</td>\n",
       "      <td>1730</td>\n",
       "      <td>9 Perro Pl, Trenton, NJ 08690</td>\n",
       "    </tr>\n",
       "    <tr>\n",
       "      <th>1</th>\n",
       "      <td>305000</td>\n",
       "      <td>3</td>\n",
       "      <td>1</td>\n",
       "      <td>768</td>\n",
       "      <td>47 Shackamaxon Dr, Trenton, NJ 08690</td>\n",
       "    </tr>\n",
       "    <tr>\n",
       "      <th>2</th>\n",
       "      <td>284900</td>\n",
       "      <td>2</td>\n",
       "      <td>1</td>\n",
       "      <td>1292</td>\n",
       "      <td>51 Sunset Blvd, Trenton, NJ 08690</td>\n",
       "    </tr>\n",
       "    <tr>\n",
       "      <th>3</th>\n",
       "      <td>429900</td>\n",
       "      <td>3</td>\n",
       "      <td>2</td>\n",
       "      <td>1576</td>\n",
       "      <td>584 Mercer St, Trenton, NJ 08690</td>\n",
       "    </tr>\n",
       "    <tr>\n",
       "      <th>4</th>\n",
       "      <td>384900</td>\n",
       "      <td>3</td>\n",
       "      <td>3</td>\n",
       "      <td>1928</td>\n",
       "      <td>37 Sparrow Dr, Trenton, NJ 08690</td>\n",
       "    </tr>\n",
       "    <tr>\n",
       "      <th>5</th>\n",
       "      <td>379000</td>\n",
       "      <td>5</td>\n",
       "      <td>2</td>\n",
       "      <td>1569</td>\n",
       "      <td>253 George Dye Rd, Trenton, NJ 08690</td>\n",
       "    </tr>\n",
       "    <tr>\n",
       "      <th>6</th>\n",
       "      <td>279999</td>\n",
       "      <td>3</td>\n",
       "      <td>1</td>\n",
       "      <td>1226</td>\n",
       "      <td>37 Maple Shade Ave, Trenton, NJ 08690</td>\n",
       "    </tr>\n",
       "    <tr>\n",
       "      <th>7</th>\n",
       "      <td>325000</td>\n",
       "      <td>3</td>\n",
       "      <td>1</td>\n",
       "      <td>1166</td>\n",
       "      <td>32 Exmoor Ln, Trenton, NJ 08690</td>\n",
       "    </tr>\n",
       "    <tr>\n",
       "      <th>8</th>\n",
       "      <td>434900</td>\n",
       "      <td>4</td>\n",
       "      <td>2</td>\n",
       "      <td>2286</td>\n",
       "      <td>50 Mercer St, Trenton, NJ 08690</td>\n",
       "    </tr>\n",
       "    <tr>\n",
       "      <th>9</th>\n",
       "      <td>419900</td>\n",
       "      <td>4</td>\n",
       "      <td>2</td>\n",
       "      <td>1572</td>\n",
       "      <td>4053 Nottingham Way, Trenton, NJ 08690</td>\n",
       "    </tr>\n",
       "  </tbody>\n",
       "</table>\n",
       "</div>"
      ],
      "text/plain": [
       "    price  bed  bath  area                                 address\n",
       "0  225000    5     3  1730           9 Perro Pl, Trenton, NJ 08690\n",
       "1  305000    3     1   768    47 Shackamaxon Dr, Trenton, NJ 08690\n",
       "2  284900    2     1  1292       51 Sunset Blvd, Trenton, NJ 08690\n",
       "3  429900    3     2  1576        584 Mercer St, Trenton, NJ 08690\n",
       "4  384900    3     3  1928        37 Sparrow Dr, Trenton, NJ 08690\n",
       "5  379000    5     2  1569    253 George Dye Rd, Trenton, NJ 08690\n",
       "6  279999    3     1  1226   37 Maple Shade Ave, Trenton, NJ 08690\n",
       "7  325000    3     1  1166         32 Exmoor Ln, Trenton, NJ 08690\n",
       "8  434900    4     2  2286         50 Mercer St, Trenton, NJ 08690\n",
       "9  419900    4     2  1572  4053 Nottingham Way, Trenton, NJ 08690"
      ]
     },
     "execution_count": 16,
     "metadata": {},
     "output_type": "execute_result"
    }
   ],
   "source": [
    "df = pandas.read_sql_query('select * from gp8.house ', conn)\n",
    "df[:10]"
   ]
  },
  {
   "cell_type": "markdown",
   "id": "ea6cbe8e",
   "metadata": {},
   "source": [
    "## Basic Stat"
   ]
  },
  {
   "cell_type": "code",
   "execution_count": 17,
   "id": "43e0f905",
   "metadata": {},
   "outputs": [
    {
     "data": {
      "text/html": [
       "<div>\n",
       "<style scoped>\n",
       "    .dataframe tbody tr th:only-of-type {\n",
       "        vertical-align: middle;\n",
       "    }\n",
       "\n",
       "    .dataframe tbody tr th {\n",
       "        vertical-align: top;\n",
       "    }\n",
       "\n",
       "    .dataframe thead th {\n",
       "        text-align: right;\n",
       "    }\n",
       "</style>\n",
       "<table border=\"1\" class=\"dataframe\">\n",
       "  <thead>\n",
       "    <tr style=\"text-align: right;\">\n",
       "      <th></th>\n",
       "      <th>price</th>\n",
       "      <th>bed</th>\n",
       "      <th>bath</th>\n",
       "      <th>area</th>\n",
       "    </tr>\n",
       "  </thead>\n",
       "  <tbody>\n",
       "    <tr>\n",
       "      <th>count</th>\n",
       "      <td>6.300000e+01</td>\n",
       "      <td>63.000000</td>\n",
       "      <td>63.000000</td>\n",
       "      <td>63.000000</td>\n",
       "    </tr>\n",
       "    <tr>\n",
       "      <th>mean</th>\n",
       "      <td>3.968063e+05</td>\n",
       "      <td>3.174603</td>\n",
       "      <td>2.285714</td>\n",
       "      <td>1809.111111</td>\n",
       "    </tr>\n",
       "    <tr>\n",
       "      <th>std</th>\n",
       "      <td>2.321106e+05</td>\n",
       "      <td>0.833564</td>\n",
       "      <td>0.749808</td>\n",
       "      <td>1142.901149</td>\n",
       "    </tr>\n",
       "    <tr>\n",
       "      <th>min</th>\n",
       "      <td>1.699000e+05</td>\n",
       "      <td>2.000000</td>\n",
       "      <td>1.000000</td>\n",
       "      <td>768.000000</td>\n",
       "    </tr>\n",
       "    <tr>\n",
       "      <th>25%</th>\n",
       "      <td>2.895000e+05</td>\n",
       "      <td>3.000000</td>\n",
       "      <td>2.000000</td>\n",
       "      <td>1221.500000</td>\n",
       "    </tr>\n",
       "    <tr>\n",
       "      <th>50%</th>\n",
       "      <td>3.500000e+05</td>\n",
       "      <td>3.000000</td>\n",
       "      <td>2.000000</td>\n",
       "      <td>1656.000000</td>\n",
       "    </tr>\n",
       "    <tr>\n",
       "      <th>75%</th>\n",
       "      <td>4.374995e+05</td>\n",
       "      <td>4.000000</td>\n",
       "      <td>3.000000</td>\n",
       "      <td>2164.000000</td>\n",
       "    </tr>\n",
       "    <tr>\n",
       "      <th>max</th>\n",
       "      <td>1.900000e+06</td>\n",
       "      <td>5.000000</td>\n",
       "      <td>4.000000</td>\n",
       "      <td>9400.000000</td>\n",
       "    </tr>\n",
       "  </tbody>\n",
       "</table>\n",
       "</div>"
      ],
      "text/plain": [
       "              price        bed       bath         area\n",
       "count  6.300000e+01  63.000000  63.000000    63.000000\n",
       "mean   3.968063e+05   3.174603   2.285714  1809.111111\n",
       "std    2.321106e+05   0.833564   0.749808  1142.901149\n",
       "min    1.699000e+05   2.000000   1.000000   768.000000\n",
       "25%    2.895000e+05   3.000000   2.000000  1221.500000\n",
       "50%    3.500000e+05   3.000000   2.000000  1656.000000\n",
       "75%    4.374995e+05   4.000000   3.000000  2164.000000\n",
       "max    1.900000e+06   5.000000   4.000000  9400.000000"
      ]
     },
     "execution_count": 17,
     "metadata": {},
     "output_type": "execute_result"
    }
   ],
   "source": [
    "df.describe()"
   ]
  },
  {
   "cell_type": "markdown",
   "id": "d4028132",
   "metadata": {},
   "source": [
    "## Price Distribution"
   ]
  },
  {
   "cell_type": "code",
   "execution_count": 18,
   "id": "7d3572af",
   "metadata": {},
   "outputs": [
    {
     "data": {
      "text/plain": [
       "<AxesSubplot:>"
      ]
     },
     "execution_count": 18,
     "metadata": {},
     "output_type": "execute_result"
    },
    {
     "data": {
      "image/png": "[encoded data removed]",
      "text/plain": [
       "<Figure size 432x288 with 1 Axes>"
      ]
     },
     "metadata": {
      "needs_background": "light"
     },
     "output_type": "display_data"
    }
   ],
   "source": [
    "df['price'].hist()"
   ]
  },
  {
   "cell_type": "markdown",
   "id": "24824aae",
   "metadata": {},
   "source": [
    "## Bed vs Bath"
   ]
  },
  {
   "cell_type": "code",
   "execution_count": 19,
   "id": "ff762273",
   "metadata": {},
   "outputs": [
    {
     "data": {
      "text/plain": [
       "<AxesSubplot:xlabel='bed', ylabel='bath'>"
      ]
     },
     "execution_count": 19,
     "metadata": {},
     "output_type": "execute_result"
    },
    {
     "data": {
      "image/png": "[encoded data removed]",
      "text/plain": [
       "<Figure size 432x288 with 1 Axes>"
      ]
     },
     "metadata": {
      "needs_background": "light"
     },
     "output_type": "display_data"
    }
   ],
   "source": [
    "df.plot.scatter(x='bed',y='bath')"
   ]
  },
  {
   "cell_type": "code",
   "execution_count": null,
   "id": "c82227be",
   "metadata": {},
   "outputs": [],
   "source": []
  }
 ],
 "metadata": {
  "kernelspec": {
   "display_name": "conda_python3",
   "language": "python",
   "name": "conda_python3"
  },
  "language_info": {
   "codemirror_mode": {
    "name": "ipython",
    "version": 3
   },
   "file_extension": ".py",
   "mimetype": "text/x-python",
   "name": "python",
   "nbconvert_exporter": "python",
   "pygments_lexer": "ipython3",
   "version": "3.6.13"
  }
 },
 "nbformat": 4,
 "nbformat_minor": 5
}
