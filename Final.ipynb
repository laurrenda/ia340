{
 "cells": [
  {
   "cell_type": "markdown",
   "metadata": {},
   "source": [
    "# Collect Tweets into MongoDB"
   ]
  },
  {
   "cell_type": "markdown",
   "metadata": {},
   "source": [
    "## Install Python libraries\n",
    "\n",
    "You may need to restart your Jupyter Notebook instance after installed those libraries."
   ]
  },
  {
   "cell_type": "code",
   "execution_count": 1,
   "metadata": {
    "scrolled": true
   },
   "outputs": [
    {
     "name": "stdout",
     "output_type": "stream",
     "text": [
      "Requirement already satisfied: pymongo in /home/ec2-user/anaconda3/envs/python3/lib/python3.6/site-packages (4.0.1)\n",
      "\u001b[33mWARNING: You are using pip version 21.2.4; however, version 21.3.1 is available.\n",
      "You should consider upgrading via the '/home/ec2-user/anaconda3/envs/python3/bin/python -m pip install --upgrade pip' command.\u001b[0m\n"
     ]
    }
   ],
   "source": [
    "!pip install pymongo"
   ]
  },
  {
   "cell_type": "code",
   "execution_count": 2,
   "metadata": {},
   "outputs": [
    {
     "name": "stdout",
     "output_type": "stream",
     "text": [
      "Requirement already satisfied: pymongo[srv] in /home/ec2-user/anaconda3/envs/python3/lib/python3.6/site-packages (4.0.1)\n",
      "Requirement already satisfied: dnspython<3.0.0,>=1.16.0 in /home/ec2-user/anaconda3/envs/python3/lib/python3.6/site-packages (from pymongo[srv]) (2.1.0)\n",
      "\u001b[33mWARNING: You are using pip version 21.2.4; however, version 21.3.1 is available.\n",
      "You should consider upgrading via the '/home/ec2-user/anaconda3/envs/python3/bin/python -m pip install --upgrade pip' command.\u001b[0m\n"
     ]
    }
   ],
   "source": [
    "!pip install pymongo[srv]"
   ]
  },
  {
   "cell_type": "code",
   "execution_count": 3,
   "metadata": {},
   "outputs": [
    {
     "name": "stdout",
     "output_type": "stream",
     "text": [
      "Requirement already satisfied: dnspython in /home/ec2-user/anaconda3/envs/python3/lib/python3.6/site-packages (2.1.0)\n",
      "\u001b[33mWARNING: You are using pip version 21.2.4; however, version 21.3.1 is available.\n",
      "You should consider upgrading via the '/home/ec2-user/anaconda3/envs/python3/bin/python -m pip install --upgrade pip' command.\u001b[0m\n"
     ]
    }
   ],
   "source": [
    "!pip install dnspython"
   ]
  },
  {
   "cell_type": "code",
   "execution_count": 4,
   "metadata": {
    "scrolled": true
   },
   "outputs": [
    {
     "name": "stdout",
     "output_type": "stream",
     "text": [
      "Requirement already satisfied: tweepy in /home/ec2-user/anaconda3/envs/python3/lib/python3.6/site-packages (4.4.0)\n",
      "Requirement already satisfied: requests-oauthlib<2,>=1.0.0 in /home/ec2-user/anaconda3/envs/python3/lib/python3.6/site-packages (from tweepy) (1.3.0)\n",
      "Requirement already satisfied: requests<3,>=2.11.1 in /home/ec2-user/anaconda3/envs/python3/lib/python3.6/site-packages (from tweepy) (2.26.0)\n",
      "Requirement already satisfied: urllib3<1.27,>=1.21.1 in /home/ec2-user/anaconda3/envs/python3/lib/python3.6/site-packages (from requests<3,>=2.11.1->tweepy) (1.26.7)\n",
      "Requirement already satisfied: idna<4,>=2.5 in /home/ec2-user/anaconda3/envs/python3/lib/python3.6/site-packages (from requests<3,>=2.11.1->tweepy) (3.3)\n",
      "Requirement already satisfied: charset-normalizer~=2.0.0 in /home/ec2-user/anaconda3/envs/python3/lib/python3.6/site-packages (from requests<3,>=2.11.1->tweepy) (2.0.7)\n",
      "Requirement already satisfied: certifi>=2017.4.17 in /home/ec2-user/anaconda3/envs/python3/lib/python3.6/site-packages (from requests<3,>=2.11.1->tweepy) (2021.10.8)\n",
      "Requirement already satisfied: oauthlib>=3.0.0 in /home/ec2-user/anaconda3/envs/python3/lib/python3.6/site-packages (from requests-oauthlib<2,>=1.0.0->tweepy) (3.1.1)\n",
      "\u001b[33mWARNING: You are using pip version 21.2.4; however, version 21.3.1 is available.\n",
      "You should consider upgrading via the '/home/ec2-user/anaconda3/envs/python3/bin/python -m pip install --upgrade pip' command.\u001b[0m\n"
     ]
    }
   ],
   "source": [
    "!pip install tweepy"
   ]
  },
  {
   "cell_type": "code",
   "execution_count": 5,
   "metadata": {
    "scrolled": true
   },
   "outputs": [
    {
     "name": "stdout",
     "output_type": "stream",
     "text": [
      "Requirement already satisfied: twitter in /home/ec2-user/anaconda3/envs/python3/lib/python3.6/site-packages (1.19.3)\n",
      "\u001b[33mWARNING: You are using pip version 21.2.4; however, version 21.3.1 is available.\n",
      "You should consider upgrading via the '/home/ec2-user/anaconda3/envs/python3/bin/python -m pip install --upgrade pip' command.\u001b[0m\n"
     ]
    }
   ],
   "source": [
    "!pip install twitter"
   ]
  },
  {
   "cell_type": "markdown",
   "metadata": {},
   "source": [
    "## Import Python libraries"
   ]
  },
  {
   "cell_type": "code",
   "execution_count": 6,
   "metadata": {},
   "outputs": [],
   "source": [
    "import pymongo\n",
    "from pymongo import MongoClient\n",
    "import json\n",
    "import tweepy\n",
    "import twitter\n",
    "from pprint import pprint\n",
    "import configparser\n",
    "import pandas as pd"
   ]
  },
  {
   "cell_type": "markdown",
   "metadata": {},
   "source": [
    "##  Load the Authorization Info"
   ]
  },
  {
   "cell_type": "markdown",
   "metadata": {},
   "source": [
    "Save database connection info and API Keys in a config.ini file and use the configparse to load the authorization info. "
   ]
  },
  {
   "cell_type": "code",
   "execution_count": 7,
   "metadata": {},
   "outputs": [],
   "source": [
    "config = configparser.ConfigParser()\n",
    "config.read('config.ini')\n",
    "\n",
    "CONSUMER_KEY      = config['mytwitter']['api_key']\n",
    "CONSUMER_SECRET   = config['mytwitter']['api_secrete']\n",
    "OAUTH_TOKEN       = config['mytwitter']['access_token']\n",
    "OATH_TOKEN_SECRET = config['mytwitter']['access_secrete']\n",
    "\n",
    "mongod_connect = config['mymongo']['connection']"
   ]
  },
  {
   "cell_type": "markdown",
   "metadata": {},
   "source": [
    "## Connect to the MongoDB Cluster"
   ]
  },
  {
   "cell_type": "code",
   "execution_count": 8,
   "metadata": {},
   "outputs": [
    {
     "data": {
      "text/plain": [
       "'id_1'"
      ]
     },
     "execution_count": 8,
     "metadata": {},
     "output_type": "execute_result"
    }
   ],
   "source": [
    "client = MongoClient(mongod_connect)\n",
    "db = client.gp8 # use or create a database named demo\n",
    "tweet_collection = db.tweet_collection #use or create a collection named tweet_collection\n",
    "tweet_collection.create_index([(\"id\", pymongo.ASCENDING)],unique = True) # make sure the collected tweets are unique"
   ]
  },
  {
   "cell_type": "markdown",
   "metadata": {},
   "source": [
    "## Use the Streaming API to Collect Tweets"
   ]
  },
  {
   "cell_type": "markdown",
   "metadata": {},
   "source": [
    "Authorize the Stream API "
   ]
  },
  {
   "cell_type": "code",
   "execution_count": 9,
   "metadata": {},
   "outputs": [],
   "source": [
    "stream_auth = tweepy.OAuthHandler(CONSUMER_KEY, CONSUMER_SECRET)\n",
    "stream_auth.set_access_token(OAUTH_TOKEN, OATH_TOKEN_SECRET)\n",
    "\n",
    "strem_api = tweepy.API(stream_auth)"
   ]
  },
  {
   "cell_type": "markdown",
   "metadata": {},
   "source": [
    "Define the query for the Stream API"
   ]
  },
  {
   "cell_type": "code",
   "execution_count": 10,
   "metadata": {},
   "outputs": [],
   "source": [
    "track = ['COVID19'] # define the keywords, tweets contain election\n",
    "\n",
    "#locations = [-78.9326449,38.4150904,-78.8816972,38.4450731] #defin the location, in Harrisonburg, VA"
   ]
  },
  {
   "cell_type": "markdown",
   "metadata": {},
   "source": [
    "The collected tweets will contain 'election' <span style=\"color:red;font-weight:bold\"> OR </span> are located in Harrisonburg, VA"
   ]
  },
  {
   "cell_type": "code",
   "execution_count": 11,
   "metadata": {
    "scrolled": true
   },
   "outputs": [
    {
     "ename": "AttributeError",
     "evalue": "module 'tweepy' has no attribute 'StreamListener'",
     "output_type": "error",
     "traceback": [
      "\u001b[0;31m---------------------------------------------------------------------------\u001b[0m",
      "\u001b[0;31mAttributeError\u001b[0m                            Traceback (most recent call last)",
      "\u001b[0;32m<ipython-input-11-11bc45f21258>\u001b[0m in \u001b[0;36m<module>\u001b[0;34m\u001b[0m\n\u001b[0;32m----> 1\u001b[0;31m \u001b[0;32mclass\u001b[0m \u001b[0mMyStreamListener\u001b[0m\u001b[0;34m(\u001b[0m\u001b[0mtweepy\u001b[0m\u001b[0;34m.\u001b[0m\u001b[0mStreamListener\u001b[0m\u001b[0;34m)\u001b[0m\u001b[0;34m:\u001b[0m\u001b[0;34m\u001b[0m\u001b[0;34m\u001b[0m\u001b[0m\n\u001b[0m\u001b[1;32m      2\u001b[0m     \u001b[0;32mdef\u001b[0m \u001b[0mon_status\u001b[0m\u001b[0;34m(\u001b[0m\u001b[0mself\u001b[0m\u001b[0;34m,\u001b[0m \u001b[0mstatus\u001b[0m\u001b[0;34m)\u001b[0m\u001b[0;34m:\u001b[0m\u001b[0;34m\u001b[0m\u001b[0;34m\u001b[0m\u001b[0m\n\u001b[1;32m      3\u001b[0m         \u001b[0mprint\u001b[0m \u001b[0;34m(\u001b[0m\u001b[0mstatus\u001b[0m\u001b[0;34m.\u001b[0m\u001b[0mid_str\u001b[0m\u001b[0;34m)\u001b[0m\u001b[0;34m\u001b[0m\u001b[0;34m\u001b[0m\u001b[0m\n\u001b[1;32m      4\u001b[0m         \u001b[0;32mtry\u001b[0m\u001b[0;34m:\u001b[0m\u001b[0;34m\u001b[0m\u001b[0;34m\u001b[0m\u001b[0m\n\u001b[1;32m      5\u001b[0m             \u001b[0mtweet_collection\u001b[0m\u001b[0;34m.\u001b[0m\u001b[0minsert_one\u001b[0m\u001b[0;34m(\u001b[0m\u001b[0mstatus\u001b[0m\u001b[0;34m.\u001b[0m\u001b[0m_json\u001b[0m\u001b[0;34m)\u001b[0m\u001b[0;34m\u001b[0m\u001b[0;34m\u001b[0m\u001b[0m\n",
      "\u001b[0;31mAttributeError\u001b[0m: module 'tweepy' has no attribute 'StreamListener'"
     ]
    }
   ],
   "source": [
    "class MyStreamListener(tweepy.StreamListener):\n",
    "    def on_status(self, status):\n",
    "        print (status.id_str)\n",
    "        try:\n",
    "            tweet_collection.insert_one(status._json)\n",
    "        except:\n",
    "            pass\n",
    "  \n",
    "    def on_error(self, status_code):\n",
    "        if status_code == 420:\n",
    "            #returning False in on_data disconnects the stream\n",
    "            return False\n",
    "myStreamListener = MyStreamListener()\n",
    "myStream = tweepy.Stream(auth = strem_api.auth, listener=myStreamListener)\n",
    "myStream.filter(track=track)#  (locations = locations)   #Use either track or locations"
   ]
  },
  {
   "cell_type": "markdown",
   "metadata": {},
   "source": [
    "## Use the REST API to Collect Tweets"
   ]
  },
  {
   "cell_type": "markdown",
   "metadata": {},
   "source": [
    "Authorize the REST API "
   ]
  },
  {
   "cell_type": "code",
   "execution_count": 37,
   "metadata": {},
   "outputs": [],
   "source": [
    "rest_auth = twitter.oauth.OAuth(OAUTH_TOKEN,OATH_TOKEN_SECRET,CONSUMER_KEY,CONSUMER_SECRET)\n",
    "rest_api = twitter.Twitter(auth=rest_auth)"
   ]
  },
  {
   "cell_type": "markdown",
   "metadata": {},
   "source": [
    "Define the query for the REST API"
   ]
  },
  {
   "cell_type": "code",
   "execution_count": 38,
   "metadata": {},
   "outputs": [],
   "source": [
    "count = 100 #number of returned tweets, default and max is 100\n",
    "geocode = \"44.3148,-85.6024,200mi\"  # defin the location, in Harrisonburg, VA\n",
    "q = \"COVID19\"                               #define the keywords, tweets contain election"
   ]
  },
  {
   "cell_type": "markdown",
   "metadata": {},
   "source": [
    "The collected tweets will contain 'election' <span style=\"color:red;font-weight:bold\"> AND </span> are located in Harrisonburg, VA"
   ]
  },
  {
   "cell_type": "code",
   "execution_count": 39,
   "metadata": {},
   "outputs": [],
   "source": [
    "search_results = rest_api.search.tweets( count=count,q=q, geocode=geocode) #you can use both q and geocode\n",
    "statuses = search_results[\"statuses\"]\n",
    "since_id_new = statuses[-1]['id']\n",
    "for statuse in statuses:\n",
    "    try:\n",
    "        tweet_collection.insert_one(statuse)\n",
    "        pprint(statuse['created_at'])# print the date of the collected tweets\n",
    "    except:\n",
    "        pass"
   ]
  },
  {
   "cell_type": "markdown",
   "metadata": {},
   "source": [
    "Continue fetching early tweets with the same query. \n",
    "<p><span style=\"color:red;font-weight:bold\">YOU WILL REACH YOUR RATE LIMIT VERY FAST</span></p>"
   ]
  },
  {
   "cell_type": "code",
   "execution_count": 41,
   "metadata": {
    "scrolled": false
   },
   "outputs": [],
   "source": [
    "since_id_old = 0\n",
    "while(since_id_new != since_id_old):\n",
    "    since_id_old = since_id_new\n",
    "    search_results = rest_api.search.tweets( count=count,q=q,\n",
    "                        geocode=geocode, max_id= since_id_new)\n",
    "    statuses = search_results[\"statuses\"]\n",
    "    since_id_new = statuses[-1]['id']\n",
    "    for statuse in statuses:\n",
    "        try:\n",
    "            tweet_collection.insert_one(statuse)\n",
    "            pprint(statuse['created_at']) # print the date of the collected tweets\n",
    "        except:\n",
    "            pass"
   ]
  },
  {
   "cell_type": "markdown",
   "metadata": {},
   "source": [
    "## View the Collected Tweets"
   ]
  },
  {
   "cell_type": "markdown",
   "metadata": {},
   "source": [
    "Print the number of tweets and unique twitter users"
   ]
  },
  {
   "cell_type": "code",
   "execution_count": 42,
   "metadata": {},
   "outputs": [
    {
     "name": "stdout",
     "output_type": "stream",
     "text": [
      "1479\n",
      "736\n"
     ]
    }
   ],
   "source": [
    "print(tweet_collection.estimated_document_count())# number of tweets collected\n",
    "\n",
    "user_cursor = tweet_collection.distinct(\"user.id\")\n",
    "print (len(user_cursor)) # number of unique Twitter users "
   ]
  },
  {
   "cell_type": "markdown",
   "metadata": {},
   "source": [
    "Create a text index and print the Tweets containing specific keywords. "
   ]
  },
  {
   "cell_type": "code",
   "execution_count": 26,
   "metadata": {
    "scrolled": false
   },
   "outputs": [
    {
     "data": {
      "text/plain": [
       "'text_index'"
      ]
     },
     "execution_count": 26,
     "metadata": {},
     "output_type": "execute_result"
    }
   ],
   "source": [
    "tweet_collection.create_index([(\"text\", pymongo.TEXT)], name='text_index', default_language='english') # create a text index\n"
   ]
  },
  {
   "cell_type": "markdown",
   "metadata": {},
   "source": [
    "Create a cursor to query tweets with the created index"
   ]
  },
  {
   "cell_type": "code",
   "execution_count": 27,
   "metadata": {},
   "outputs": [],
   "source": [
    "tweet_cursor = tweet_collection.find({\"$text\": {\"$search\": \"COVID19\"}}) # return tweets contain vote"
   ]
  },
  {
   "cell_type": "markdown",
   "metadata": {},
   "source": [
    "Use pprint to display tweets"
   ]
  },
  {
   "cell_type": "code",
   "execution_count": 28,
   "metadata": {
    "scrolled": false
   },
   "outputs": [
    {
     "name": "stdout",
     "output_type": "stream",
     "text": [
      "----\n",
      "name: Kathleen 🌍💨🔥\n",
      "text: Benton County Arkansas lost this deputy to #COVID19  There are more deaths by #COVID19 than any other cause for 2 y… https://t.co/GsGedNpzDC\n",
      "----\n",
      "name: BIconnections\n",
      "text: The COVID19 package, an interface to the COVID-19 #Data Hub\n",
      "The COVID19 package, an interface to the COVID-19 #Data… https://t.co/gW2tgBbavi\n",
      "----\n",
      "name: Nikhil Meena\n",
      "text: @ChristophHutchi Cannot like this .\n",
      "Boo #covid19\n",
      "----\n",
      "name: Leader2light\n",
      "text: @fxmacro Early Covid19 is mild for everyone.\n",
      "----\n",
      "name: Sweet Home Allegra\n",
      "text: #COVID19 https://t.co/4GwORJhUI4\n",
      "----\n",
      "name: Beverly\n",
      "text: #COVID19 https://t.co/RbuO8qn40f\n",
      "----\n",
      "name: Mikel Morgan\n",
      "text: @USATRUMPMAN1 Said that since #COVID19 BS started\n",
      "----\n",
      "name: MVM\n",
      "text: #Covidisme \n",
      "#COVID19 https://t.co/H8YAwych6D\n",
      "----\n",
      "name: Marie Estelle Spike\n",
      "text: https://t.co/xPlgoZzIsp #vaccine #COVID19\n",
      "----\n",
      "name: Les Guessing\n",
      "text: #vax #COVID19 https://t.co/5IUjs4K402\n"
     ]
    }
   ],
   "source": [
    "\n",
    "for document in tweet_cursor[0:10]: # display the first 10 tweets from the query\n",
    "    try:\n",
    "        print ('----')\n",
    "#         pprint (document) # use pprint to print the entire tweet document\n",
    "   \n",
    "        print ('name:', document[\"user\"][\"name\"]) # user name\n",
    "        print ('text:', document[\"text\"])         # tweets\n",
    "    except:\n",
    "        print (\"***error in encoding\")\n",
    "        pass"
   ]
  },
  {
   "cell_type": "code",
   "execution_count": 29,
   "metadata": {},
   "outputs": [],
   "source": [
    "tweet_cursor = tweet_collection.find({\"$text\": {\"$search\": \"COVID19\"}}) # return tweets contain vote"
   ]
  },
  {
   "cell_type": "markdown",
   "metadata": {},
   "source": [
    "Use pandas to display tweets"
   ]
  },
  {
   "cell_type": "code",
   "execution_count": 30,
   "metadata": {},
   "outputs": [
    {
     "data": {
      "text/html": [
       "<div>\n",
       "<style scoped>\n",
       "    .dataframe tbody tr th:only-of-type {\n",
       "        vertical-align: middle;\n",
       "    }\n",
       "\n",
       "    .dataframe tbody tr th {\n",
       "        vertical-align: top;\n",
       "    }\n",
       "\n",
       "    .dataframe thead th {\n",
       "        text-align: right;\n",
       "    }\n",
       "</style>\n",
       "<table border=\"1\" class=\"dataframe\">\n",
       "  <thead>\n",
       "    <tr style=\"text-align: right;\">\n",
       "      <th></th>\n",
       "      <th>_id</th>\n",
       "      <th>created_at</th>\n",
       "      <th>id</th>\n",
       "      <th>id_str</th>\n",
       "      <th>text</th>\n",
       "      <th>truncated</th>\n",
       "      <th>entities</th>\n",
       "      <th>metadata</th>\n",
       "      <th>source</th>\n",
       "      <th>in_reply_to_status_id</th>\n",
       "      <th>...</th>\n",
       "      <th>retweet_count</th>\n",
       "      <th>favorite_count</th>\n",
       "      <th>favorited</th>\n",
       "      <th>retweeted</th>\n",
       "      <th>possibly_sensitive</th>\n",
       "      <th>lang</th>\n",
       "      <th>extended_entities</th>\n",
       "      <th>quoted_status_id</th>\n",
       "      <th>quoted_status_id_str</th>\n",
       "      <th>quoted_status</th>\n",
       "    </tr>\n",
       "  </thead>\n",
       "  <tbody>\n",
       "    <tr>\n",
       "      <th>0</th>\n",
       "      <td>61a699e47b4313071e6d64f8</td>\n",
       "      <td>Mon Nov 29 02:58:47 +0000 2021</td>\n",
       "      <td>1465153236248285190</td>\n",
       "      <td>1465153236248285190</td>\n",
       "      <td>Benton County Arkansas lost this deputy to #CO...</td>\n",
       "      <td>True</td>\n",
       "      <td>{'hashtags': [{'text': 'COVID19', 'indices': [...</td>\n",
       "      <td>{'iso_language_code': 'en', 'result_type': 're...</td>\n",
       "      <td>&lt;a href=\"http://twitter.com/#!/download/ipad\" ...</td>\n",
       "      <td>NaN</td>\n",
       "      <td>...</td>\n",
       "      <td>1</td>\n",
       "      <td>1</td>\n",
       "      <td>False</td>\n",
       "      <td>False</td>\n",
       "      <td>False</td>\n",
       "      <td>en</td>\n",
       "      <td>NaN</td>\n",
       "      <td>NaN</td>\n",
       "      <td>NaN</td>\n",
       "      <td>NaN</td>\n",
       "    </tr>\n",
       "    <tr>\n",
       "      <th>1</th>\n",
       "      <td>61b637e37390e37c921acf67</td>\n",
       "      <td>Sat Dec 11 06:23:18 +0000 2021</td>\n",
       "      <td>1469553359480832000</td>\n",
       "      <td>1469553359480832000</td>\n",
       "      <td>The COVID19 package, an interface to the COVID...</td>\n",
       "      <td>True</td>\n",
       "      <td>{'hashtags': [{'text': 'Data', 'indices': [50,...</td>\n",
       "      <td>{'iso_language_code': 'en', 'result_type': 're...</td>\n",
       "      <td>&lt;a href=\"https://mobile.twitter.com\" rel=\"nofo...</td>\n",
       "      <td>NaN</td>\n",
       "      <td>...</td>\n",
       "      <td>0</td>\n",
       "      <td>0</td>\n",
       "      <td>False</td>\n",
       "      <td>False</td>\n",
       "      <td>False</td>\n",
       "      <td>en</td>\n",
       "      <td>NaN</td>\n",
       "      <td>NaN</td>\n",
       "      <td>NaN</td>\n",
       "      <td>NaN</td>\n",
       "    </tr>\n",
       "    <tr>\n",
       "      <th>2</th>\n",
       "      <td>61a699e47b4313071e6d64e7</td>\n",
       "      <td>Mon Nov 29 18:26:09 +0000 2021</td>\n",
       "      <td>1465386614604148738</td>\n",
       "      <td>1465386614604148738</td>\n",
       "      <td>@ChristophHutchi Cannot like this .\\nBoo #covid19</td>\n",
       "      <td>False</td>\n",
       "      <td>{'hashtags': [{'text': 'covid19', 'indices': [...</td>\n",
       "      <td>{'iso_language_code': 'en', 'result_type': 're...</td>\n",
       "      <td>&lt;a href=\"https://mobile.twitter.com\" rel=\"nofo...</td>\n",
       "      <td>1.465373e+18</td>\n",
       "      <td>...</td>\n",
       "      <td>0</td>\n",
       "      <td>1</td>\n",
       "      <td>False</td>\n",
       "      <td>False</td>\n",
       "      <td>NaN</td>\n",
       "      <td>en</td>\n",
       "      <td>NaN</td>\n",
       "      <td>NaN</td>\n",
       "      <td>NaN</td>\n",
       "      <td>NaN</td>\n",
       "    </tr>\n",
       "    <tr>\n",
       "      <th>3</th>\n",
       "      <td>61b637ed7390e37c921ad0c5</td>\n",
       "      <td>Sat Dec 04 15:28:27 +0000 2021</td>\n",
       "      <td>1467153834514558982</td>\n",
       "      <td>1467153834514558982</td>\n",
       "      <td>@fxmacro Early Covid19 is mild for everyone.</td>\n",
       "      <td>False</td>\n",
       "      <td>{'hashtags': [], 'symbols': [], 'user_mentions...</td>\n",
       "      <td>{'iso_language_code': 'en', 'result_type': 're...</td>\n",
       "      <td>&lt;a href=\"http://twitter.com/download/android\" ...</td>\n",
       "      <td>1.467154e+18</td>\n",
       "      <td>...</td>\n",
       "      <td>0</td>\n",
       "      <td>1</td>\n",
       "      <td>False</td>\n",
       "      <td>False</td>\n",
       "      <td>NaN</td>\n",
       "      <td>en</td>\n",
       "      <td>NaN</td>\n",
       "      <td>NaN</td>\n",
       "      <td>NaN</td>\n",
       "      <td>NaN</td>\n",
       "    </tr>\n",
       "    <tr>\n",
       "      <th>4</th>\n",
       "      <td>61b637ed7390e37c921ad0b5</td>\n",
       "      <td>Sat Dec 04 23:56:06 +0000 2021</td>\n",
       "      <td>1467281588660670464</td>\n",
       "      <td>1467281588660670464</td>\n",
       "      <td>#COVID19 https://t.co/4GwORJhUI4</td>\n",
       "      <td>False</td>\n",
       "      <td>{'hashtags': [{'text': 'COVID19', 'indices': [...</td>\n",
       "      <td>{'iso_language_code': 'und', 'result_type': 'r...</td>\n",
       "      <td>&lt;a href=\"http://twitter.com/download/iphone\" r...</td>\n",
       "      <td>NaN</td>\n",
       "      <td>...</td>\n",
       "      <td>1</td>\n",
       "      <td>2</td>\n",
       "      <td>False</td>\n",
       "      <td>False</td>\n",
       "      <td>False</td>\n",
       "      <td>und</td>\n",
       "      <td>{'media': [{'id': 1467281581232513024, 'id_str...</td>\n",
       "      <td>NaN</td>\n",
       "      <td>NaN</td>\n",
       "      <td>NaN</td>\n",
       "    </tr>\n",
       "    <tr>\n",
       "      <th>5</th>\n",
       "      <td>61b637ed7390e37c921ad0a4</td>\n",
       "      <td>Sun Dec 05 16:35:38 +0000 2021</td>\n",
       "      <td>1467533129028091912</td>\n",
       "      <td>1467533129028091912</td>\n",
       "      <td>#COVID19 https://t.co/RbuO8qn40f</td>\n",
       "      <td>False</td>\n",
       "      <td>{'hashtags': [{'text': 'COVID19', 'indices': [...</td>\n",
       "      <td>{'iso_language_code': 'und', 'result_type': 'r...</td>\n",
       "      <td>&lt;a href=\"http://twitter.com/download/android\" ...</td>\n",
       "      <td>NaN</td>\n",
       "      <td>...</td>\n",
       "      <td>0</td>\n",
       "      <td>0</td>\n",
       "      <td>False</td>\n",
       "      <td>False</td>\n",
       "      <td>False</td>\n",
       "      <td>und</td>\n",
       "      <td>NaN</td>\n",
       "      <td>1.467533e+18</td>\n",
       "      <td>1467532856670969859</td>\n",
       "      <td>{'created_at': 'Sun Dec 05 16:34:33 +0000 2021...</td>\n",
       "    </tr>\n",
       "    <tr>\n",
       "      <th>6</th>\n",
       "      <td>61b637ed7390e37c921ad0a2</td>\n",
       "      <td>Sun Dec 05 17:03:41 +0000 2021</td>\n",
       "      <td>1467540188901613576</td>\n",
       "      <td>1467540188901613576</td>\n",
       "      <td>@USATRUMPMAN1 Said that since #COVID19 BS started</td>\n",
       "      <td>False</td>\n",
       "      <td>{'hashtags': [{'text': 'COVID19', 'indices': [...</td>\n",
       "      <td>{'iso_language_code': 'en', 'result_type': 're...</td>\n",
       "      <td>&lt;a href=\"http://twitter.com/download/iphone\" r...</td>\n",
       "      <td>1.467355e+18</td>\n",
       "      <td>...</td>\n",
       "      <td>0</td>\n",
       "      <td>0</td>\n",
       "      <td>False</td>\n",
       "      <td>False</td>\n",
       "      <td>NaN</td>\n",
       "      <td>en</td>\n",
       "      <td>NaN</td>\n",
       "      <td>NaN</td>\n",
       "      <td>NaN</td>\n",
       "      <td>NaN</td>\n",
       "    </tr>\n",
       "    <tr>\n",
       "      <th>7</th>\n",
       "      <td>61b637ec7390e37c921ad06b</td>\n",
       "      <td>Mon Dec 06 18:54:58 +0000 2021</td>\n",
       "      <td>1467930583393312770</td>\n",
       "      <td>1467930583393312770</td>\n",
       "      <td>#Covidisme \\n#COVID19 https://t.co/H8YAwych6D</td>\n",
       "      <td>False</td>\n",
       "      <td>{'hashtags': [{'text': 'Covidisme', 'indices':...</td>\n",
       "      <td>{'iso_language_code': 'und', 'result_type': 'r...</td>\n",
       "      <td>&lt;a href=\"http://twitter.com/download/android\" ...</td>\n",
       "      <td>NaN</td>\n",
       "      <td>...</td>\n",
       "      <td>0</td>\n",
       "      <td>0</td>\n",
       "      <td>False</td>\n",
       "      <td>False</td>\n",
       "      <td>False</td>\n",
       "      <td>und</td>\n",
       "      <td>{'media': [{'id': 1467930578766995461, 'id_str...</td>\n",
       "      <td>NaN</td>\n",
       "      <td>NaN</td>\n",
       "      <td>NaN</td>\n",
       "    </tr>\n",
       "    <tr>\n",
       "      <th>8</th>\n",
       "      <td>61b637ea7390e37c921ad016</td>\n",
       "      <td>Wed Dec 08 00:23:53 +0000 2021</td>\n",
       "      <td>1468375743486910465</td>\n",
       "      <td>1468375743486910465</td>\n",
       "      <td>https://t.co/xPlgoZzIsp #vaccine #COVID19</td>\n",
       "      <td>False</td>\n",
       "      <td>{'hashtags': [{'text': 'vaccine', 'indices': [...</td>\n",
       "      <td>{'iso_language_code': 'und', 'result_type': 'r...</td>\n",
       "      <td>&lt;a href=\"https://mobile.twitter.com\" rel=\"nofo...</td>\n",
       "      <td>NaN</td>\n",
       "      <td>...</td>\n",
       "      <td>0</td>\n",
       "      <td>0</td>\n",
       "      <td>False</td>\n",
       "      <td>False</td>\n",
       "      <td>False</td>\n",
       "      <td>und</td>\n",
       "      <td>NaN</td>\n",
       "      <td>NaN</td>\n",
       "      <td>NaN</td>\n",
       "      <td>NaN</td>\n",
       "    </tr>\n",
       "    <tr>\n",
       "      <th>9</th>\n",
       "      <td>61b637e87390e37c921acfa3</td>\n",
       "      <td>Fri Dec 10 02:33:49 +0000 2021</td>\n",
       "      <td>1469133219010392070</td>\n",
       "      <td>1469133219010392070</td>\n",
       "      <td>#vax #COVID19 https://t.co/5IUjs4K402</td>\n",
       "      <td>False</td>\n",
       "      <td>{'hashtags': [{'text': 'vax', 'indices': [0, 4...</td>\n",
       "      <td>{'iso_language_code': 'und', 'result_type': 'r...</td>\n",
       "      <td>&lt;a href=\"https://mobile.twitter.com\" rel=\"nofo...</td>\n",
       "      <td>NaN</td>\n",
       "      <td>...</td>\n",
       "      <td>0</td>\n",
       "      <td>0</td>\n",
       "      <td>False</td>\n",
       "      <td>False</td>\n",
       "      <td>False</td>\n",
       "      <td>und</td>\n",
       "      <td>{'media': [{'id': 1469132917020545025, 'id_str...</td>\n",
       "      <td>NaN</td>\n",
       "      <td>NaN</td>\n",
       "      <td>NaN</td>\n",
       "    </tr>\n",
       "  </tbody>\n",
       "</table>\n",
       "<p>10 rows × 30 columns</p>\n",
       "</div>"
      ],
      "text/plain": [
       "                        _id                      created_at  \\\n",
       "0  61a699e47b4313071e6d64f8  Mon Nov 29 02:58:47 +0000 2021   \n",
       "1  61b637e37390e37c921acf67  Sat Dec 11 06:23:18 +0000 2021   \n",
       "2  61a699e47b4313071e6d64e7  Mon Nov 29 18:26:09 +0000 2021   \n",
       "3  61b637ed7390e37c921ad0c5  Sat Dec 04 15:28:27 +0000 2021   \n",
       "4  61b637ed7390e37c921ad0b5  Sat Dec 04 23:56:06 +0000 2021   \n",
       "5  61b637ed7390e37c921ad0a4  Sun Dec 05 16:35:38 +0000 2021   \n",
       "6  61b637ed7390e37c921ad0a2  Sun Dec 05 17:03:41 +0000 2021   \n",
       "7  61b637ec7390e37c921ad06b  Mon Dec 06 18:54:58 +0000 2021   \n",
       "8  61b637ea7390e37c921ad016  Wed Dec 08 00:23:53 +0000 2021   \n",
       "9  61b637e87390e37c921acfa3  Fri Dec 10 02:33:49 +0000 2021   \n",
       "\n",
       "                    id               id_str  \\\n",
       "0  1465153236248285190  1465153236248285190   \n",
       "1  1469553359480832000  1469553359480832000   \n",
       "2  1465386614604148738  1465386614604148738   \n",
       "3  1467153834514558982  1467153834514558982   \n",
       "4  1467281588660670464  1467281588660670464   \n",
       "5  1467533129028091912  1467533129028091912   \n",
       "6  1467540188901613576  1467540188901613576   \n",
       "7  1467930583393312770  1467930583393312770   \n",
       "8  1468375743486910465  1468375743486910465   \n",
       "9  1469133219010392070  1469133219010392070   \n",
       "\n",
       "                                                text  truncated  \\\n",
       "0  Benton County Arkansas lost this deputy to #CO...       True   \n",
       "1  The COVID19 package, an interface to the COVID...       True   \n",
       "2  @ChristophHutchi Cannot like this .\\nBoo #covid19      False   \n",
       "3       @fxmacro Early Covid19 is mild for everyone.      False   \n",
       "4                   #COVID19 https://t.co/4GwORJhUI4      False   \n",
       "5                   #COVID19 https://t.co/RbuO8qn40f      False   \n",
       "6  @USATRUMPMAN1 Said that since #COVID19 BS started      False   \n",
       "7      #Covidisme \\n#COVID19 https://t.co/H8YAwych6D      False   \n",
       "8          https://t.co/xPlgoZzIsp #vaccine #COVID19      False   \n",
       "9              #vax #COVID19 https://t.co/5IUjs4K402      False   \n",
       "\n",
       "                                            entities  \\\n",
       "0  {'hashtags': [{'text': 'COVID19', 'indices': [...   \n",
       "1  {'hashtags': [{'text': 'Data', 'indices': [50,...   \n",
       "2  {'hashtags': [{'text': 'covid19', 'indices': [...   \n",
       "3  {'hashtags': [], 'symbols': [], 'user_mentions...   \n",
       "4  {'hashtags': [{'text': 'COVID19', 'indices': [...   \n",
       "5  {'hashtags': [{'text': 'COVID19', 'indices': [...   \n",
       "6  {'hashtags': [{'text': 'COVID19', 'indices': [...   \n",
       "7  {'hashtags': [{'text': 'Covidisme', 'indices':...   \n",
       "8  {'hashtags': [{'text': 'vaccine', 'indices': [...   \n",
       "9  {'hashtags': [{'text': 'vax', 'indices': [0, 4...   \n",
       "\n",
       "                                            metadata  \\\n",
       "0  {'iso_language_code': 'en', 'result_type': 're...   \n",
       "1  {'iso_language_code': 'en', 'result_type': 're...   \n",
       "2  {'iso_language_code': 'en', 'result_type': 're...   \n",
       "3  {'iso_language_code': 'en', 'result_type': 're...   \n",
       "4  {'iso_language_code': 'und', 'result_type': 'r...   \n",
       "5  {'iso_language_code': 'und', 'result_type': 'r...   \n",
       "6  {'iso_language_code': 'en', 'result_type': 're...   \n",
       "7  {'iso_language_code': 'und', 'result_type': 'r...   \n",
       "8  {'iso_language_code': 'und', 'result_type': 'r...   \n",
       "9  {'iso_language_code': 'und', 'result_type': 'r...   \n",
       "\n",
       "                                              source  in_reply_to_status_id  \\\n",
       "0  <a href=\"http://twitter.com/#!/download/ipad\" ...                    NaN   \n",
       "1  <a href=\"https://mobile.twitter.com\" rel=\"nofo...                    NaN   \n",
       "2  <a href=\"https://mobile.twitter.com\" rel=\"nofo...           1.465373e+18   \n",
       "3  <a href=\"http://twitter.com/download/android\" ...           1.467154e+18   \n",
       "4  <a href=\"http://twitter.com/download/iphone\" r...                    NaN   \n",
       "5  <a href=\"http://twitter.com/download/android\" ...                    NaN   \n",
       "6  <a href=\"http://twitter.com/download/iphone\" r...           1.467355e+18   \n",
       "7  <a href=\"http://twitter.com/download/android\" ...                    NaN   \n",
       "8  <a href=\"https://mobile.twitter.com\" rel=\"nofo...                    NaN   \n",
       "9  <a href=\"https://mobile.twitter.com\" rel=\"nofo...                    NaN   \n",
       "\n",
       "   ... retweet_count  favorite_count favorited retweeted possibly_sensitive  \\\n",
       "0  ...             1               1     False     False              False   \n",
       "1  ...             0               0     False     False              False   \n",
       "2  ...             0               1     False     False                NaN   \n",
       "3  ...             0               1     False     False                NaN   \n",
       "4  ...             1               2     False     False              False   \n",
       "5  ...             0               0     False     False              False   \n",
       "6  ...             0               0     False     False                NaN   \n",
       "7  ...             0               0     False     False              False   \n",
       "8  ...             0               0     False     False              False   \n",
       "9  ...             0               0     False     False              False   \n",
       "\n",
       "  lang                                  extended_entities quoted_status_id  \\\n",
       "0   en                                                NaN              NaN   \n",
       "1   en                                                NaN              NaN   \n",
       "2   en                                                NaN              NaN   \n",
       "3   en                                                NaN              NaN   \n",
       "4  und  {'media': [{'id': 1467281581232513024, 'id_str...              NaN   \n",
       "5  und                                                NaN     1.467533e+18   \n",
       "6   en                                                NaN              NaN   \n",
       "7  und  {'media': [{'id': 1467930578766995461, 'id_str...              NaN   \n",
       "8  und                                                NaN              NaN   \n",
       "9  und  {'media': [{'id': 1469132917020545025, 'id_str...              NaN   \n",
       "\n",
       "  quoted_status_id_str                                      quoted_status  \n",
       "0                  NaN                                                NaN  \n",
       "1                  NaN                                                NaN  \n",
       "2                  NaN                                                NaN  \n",
       "3                  NaN                                                NaN  \n",
       "4                  NaN                                                NaN  \n",
       "5  1467532856670969859  {'created_at': 'Sun Dec 05 16:34:33 +0000 2021...  \n",
       "6                  NaN                                                NaN  \n",
       "7                  NaN                                                NaN  \n",
       "8                  NaN                                                NaN  \n",
       "9                  NaN                                                NaN  \n",
       "\n",
       "[10 rows x 30 columns]"
      ]
     },
     "execution_count": 30,
     "metadata": {},
     "output_type": "execute_result"
    }
   ],
   "source": [
    "tweet_df = pd.DataFrame(list(tweet_cursor ))\n",
    "tweet_df[:10] #display the first 10 tweets"
   ]
  },
  {
   "cell_type": "code",
   "execution_count": 22,
   "metadata": {},
   "outputs": [
    {
     "data": {
      "text/plain": [
       "<AxesSubplot:>"
      ]
     },
     "execution_count": 22,
     "metadata": {},
     "output_type": "execute_result"
    },
    {
     "data": {
      "image/png": "[encoded data removed]",
      "text/plain": [
       "<Figure size 432x288 with 1 Axes>"
      ]
     },
     "metadata": {
      "needs_background": "light"
     },
     "output_type": "display_data"
    }
   ],
   "source": [
    "tweet_df[\"favorite_count\"].hist() # create a histogram show the favorite count"
   ]
  },
  {
   "cell_type": "code",
   "execution_count": null,
   "metadata": {},
   "outputs": [],
   "source": []
  },
  {
   "cell_type": "code",
   "execution_count": null,
   "metadata": {},
   "outputs": [],
   "source": []
  }
 ],
 "metadata": {
  "kernelspec": {
   "display_name": "conda_python3",
   "language": "python",
   "name": "conda_python3"
  },
  "language_info": {
   "codemirror_mode": {
    "name": "ipython",
    "version": 3
   },
   "file_extension": ".py",
   "mimetype": "text/x-python",
   "name": "python",
   "nbconvert_exporter": "python",
   "pygments_lexer": "ipython3",
   "version": "3.6.13"
  }
 },
 "nbformat": 4,
 "nbformat_minor": 2
}
