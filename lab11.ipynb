{
 "cells": [
  {
   "cell_type": "markdown",
   "metadata": {},
   "source": [
    "# Collect Tweets into MongoDB"
   ]
  },
  {
   "cell_type": "markdown",
   "metadata": {},
   "source": [
    "## Install Python libraries\n",
    "\n",
    "You may need to restart your Jupyter Notebook instance after installed those libraries."
   ]
  },
  {
   "cell_type": "code",
   "execution_count": 1,
   "metadata": {
    "scrolled": true
   },
   "outputs": [
    {
     "name": "stdout",
     "output_type": "stream",
     "text": [
      "Collecting pymongo\n",
      "  Downloading pymongo-4.0-cp36-cp36m-manylinux_2_17_x86_64.manylinux2014_x86_64.whl (451 kB)\n",
      "\u001b[K     |████████████████████████████████| 451 kB 25.9 MB/s eta 0:00:01\n",
      "\u001b[?25hInstalling collected packages: pymongo\n",
      "Successfully installed pymongo-4.0\n",
      "\u001b[33mWARNING: You are using pip version 21.2.4; however, version 21.3.1 is available.\n",
      "You should consider upgrading via the '/home/ec2-user/anaconda3/envs/python3/bin/python -m pip install --upgrade pip' command.\u001b[0m\n"
     ]
    }
   ],
   "source": [
    "!pip install pymongo"
   ]
  },
  {
   "cell_type": "code",
   "execution_count": 2,
   "metadata": {},
   "outputs": [
    {
     "name": "stdout",
     "output_type": "stream",
     "text": [
      "Requirement already satisfied: pymongo[srv] in /home/ec2-user/anaconda3/envs/python3/lib/python3.6/site-packages (4.0)\n",
      "Collecting dnspython<3.0.0,>=1.16.0\n",
      "  Downloading dnspython-2.1.0-py3-none-any.whl (241 kB)\n",
      "\u001b[K     |████████████████████████████████| 241 kB 20.9 MB/s eta 0:00:01\n",
      "\u001b[?25hInstalling collected packages: dnspython\n",
      "Successfully installed dnspython-2.1.0\n",
      "\u001b[33mWARNING: You are using pip version 21.2.4; however, version 21.3.1 is available.\n",
      "You should consider upgrading via the '/home/ec2-user/anaconda3/envs/python3/bin/python -m pip install --upgrade pip' command.\u001b[0m\n"
     ]
    }
   ],
   "source": [
    "!pip install pymongo[srv]"
   ]
  },
  {
   "cell_type": "code",
   "execution_count": 3,
   "metadata": {},
   "outputs": [
    {
     "name": "stdout",
     "output_type": "stream",
     "text": [
      "Requirement already satisfied: dnspython in /home/ec2-user/anaconda3/envs/python3/lib/python3.6/site-packages (2.1.0)\n",
      "\u001b[33mWARNING: You are using pip version 21.2.4; however, version 21.3.1 is available.\n",
      "You should consider upgrading via the '/home/ec2-user/anaconda3/envs/python3/bin/python -m pip install --upgrade pip' command.\u001b[0m\n"
     ]
    }
   ],
   "source": [
    "!pip install dnspython"
   ]
  },
  {
   "cell_type": "code",
   "execution_count": 4,
   "metadata": {
    "scrolled": true
   },
   "outputs": [
    {
     "name": "stdout",
     "output_type": "stream",
     "text": [
      "Collecting tweepy\n",
      "  Downloading tweepy-4.4.0-py2.py3-none-any.whl (65 kB)\n",
      "\u001b[K     |████████████████████████████████| 65 kB 4.7 MB/s  eta 0:00:01\n",
      "\u001b[?25hRequirement already satisfied: requests<3,>=2.11.1 in /home/ec2-user/anaconda3/envs/python3/lib/python3.6/site-packages (from tweepy) (2.26.0)\n",
      "Collecting requests-oauthlib<2,>=1.0.0\n",
      "  Downloading requests_oauthlib-1.3.0-py2.py3-none-any.whl (23 kB)\n",
      "Requirement already satisfied: certifi>=2017.4.17 in /home/ec2-user/anaconda3/envs/python3/lib/python3.6/site-packages (from requests<3,>=2.11.1->tweepy) (2021.10.8)\n",
      "Requirement already satisfied: idna<4,>=2.5 in /home/ec2-user/anaconda3/envs/python3/lib/python3.6/site-packages (from requests<3,>=2.11.1->tweepy) (3.3)\n",
      "Requirement already satisfied: charset-normalizer~=2.0.0 in /home/ec2-user/anaconda3/envs/python3/lib/python3.6/site-packages (from requests<3,>=2.11.1->tweepy) (2.0.7)\n",
      "Requirement already satisfied: urllib3<1.27,>=1.21.1 in /home/ec2-user/anaconda3/envs/python3/lib/python3.6/site-packages (from requests<3,>=2.11.1->tweepy) (1.26.7)\n",
      "Collecting oauthlib>=3.0.0\n",
      "  Downloading oauthlib-3.1.1-py2.py3-none-any.whl (146 kB)\n",
      "\u001b[K     |████████████████████████████████| 146 kB 49.1 MB/s eta 0:00:01\n",
      "\u001b[?25hInstalling collected packages: oauthlib, requests-oauthlib, tweepy\n",
      "Successfully installed oauthlib-3.1.1 requests-oauthlib-1.3.0 tweepy-4.4.0\n",
      "\u001b[33mWARNING: You are using pip version 21.2.4; however, version 21.3.1 is available.\n",
      "You should consider upgrading via the '/home/ec2-user/anaconda3/envs/python3/bin/python -m pip install --upgrade pip' command.\u001b[0m\n"
     ]
    }
   ],
   "source": [
    "!pip install tweepy"
   ]
  },
  {
   "cell_type": "code",
   "execution_count": 5,
   "metadata": {
    "scrolled": true
   },
   "outputs": [
    {
     "name": "stdout",
     "output_type": "stream",
     "text": [
      "Collecting twitter\n",
      "  Downloading twitter-1.19.3-py2.py3-none-any.whl (50 kB)\n",
      "\u001b[K     |████████████████████████████████| 50 kB 7.4 MB/s  eta 0:00:01\n",
      "\u001b[?25hInstalling collected packages: twitter\n",
      "Successfully installed twitter-1.19.3\n",
      "\u001b[33mWARNING: You are using pip version 21.2.4; however, version 21.3.1 is available.\n",
      "You should consider upgrading via the '/home/ec2-user/anaconda3/envs/python3/bin/python -m pip install --upgrade pip' command.\u001b[0m\n"
     ]
    }
   ],
   "source": [
    "!pip install twitter"
   ]
  },
  {
   "cell_type": "markdown",
   "metadata": {},
   "source": [
    "## Import Python libraries"
   ]
  },
  {
   "cell_type": "code",
   "execution_count": 6,
   "metadata": {},
   "outputs": [],
   "source": [
    "import pymongo\n",
    "from pymongo import MongoClient\n",
    "import json\n",
    "import tweepy\n",
    "import twitter\n",
    "from pprint import pprint\n",
    "import configparser\n",
    "import pandas as pd"
   ]
  },
  {
   "cell_type": "markdown",
   "metadata": {},
   "source": [
    "##  Load the Authorization Info"
   ]
  },
  {
   "cell_type": "markdown",
   "metadata": {},
   "source": [
    "Save database connection info and API Keys in a config.ini file and use the configparse to load the authorization info. "
   ]
  },
  {
   "cell_type": "code",
   "execution_count": 7,
   "metadata": {},
   "outputs": [],
   "source": [
    "config = configparser.ConfigParser()\n",
    "config.read('config.ini')\n",
    "\n",
    "CONSUMER_KEY      = config['mytwitter']['api_key']\n",
    "CONSUMER_SECRET   = config['mytwitter']['api_secrete']\n",
    "OAUTH_TOKEN       = config['mytwitter']['access_token']\n",
    "OATH_TOKEN_SECRET = config['mytwitter']['access_secrete']\n",
    "\n",
    "mongod_connect = config['mymongo']['connection']"
   ]
  },
  {
   "cell_type": "markdown",
   "metadata": {},
   "source": [
    "## Connect to the MongoDB Cluster"
   ]
  },
  {
   "cell_type": "code",
   "execution_count": 10,
   "metadata": {},
   "outputs": [
    {
     "data": {
      "text/plain": [
       "'id_1'"
      ]
     },
     "execution_count": 10,
     "metadata": {},
     "output_type": "execute_result"
    }
   ],
   "source": [
    "client = MongoClient(mongod_connect)\n",
    "db = client.gp8 # use or create a database named demo\n",
    "tweet_collection = db.tweet_collection #use or create a collection named tweet_collection\n",
    "tweet_collection.create_index([(\"id\", pymongo.ASCENDING)],unique = True) # make sure the collected tweets are unique"
   ]
  },
  {
   "cell_type": "markdown",
   "metadata": {},
   "source": [
    "## Use the Streaming API to Collect Tweets"
   ]
  },
  {
   "cell_type": "markdown",
   "metadata": {},
   "source": [
    "Authorize the Stream API "
   ]
  },
  {
   "cell_type": "code",
   "execution_count": 11,
   "metadata": {},
   "outputs": [],
   "source": [
    "stream_auth = tweepy.OAuthHandler(CONSUMER_KEY, CONSUMER_SECRET)\n",
    "stream_auth.set_access_token(OAUTH_TOKEN, OATH_TOKEN_SECRET)\n",
    "\n",
    "strem_api = tweepy.API(stream_auth)"
   ]
  },
  {
   "cell_type": "markdown",
   "metadata": {},
   "source": [
    "Define the query for the Stream API"
   ]
  },
  {
   "cell_type": "code",
   "execution_count": 12,
   "metadata": {},
   "outputs": [],
   "source": [
    "track = ['election'] # define the keywords, tweets contain election\n",
    "\n",
    "locations = [-78.9326449,38.4150904,-78.8816972,38.4450731] #defin the location, in Harrisonburg, VA"
   ]
  },
  {
   "cell_type": "markdown",
   "metadata": {},
   "source": [
    "The collected tweets will contain 'election' <span style=\"color:red;font-weight:bold\"> OR </span> are located in Harrisonburg, VA"
   ]
  },
  {
   "cell_type": "code",
   "execution_count": null,
   "metadata": {
    "scrolled": true
   },
   "outputs": [],
   "source": [
    "class MyStreamListener(tweepy.StreamListener):\n",
    "    def on_status(self, status):\n",
    "        print (status.id_str)\n",
    "        try:\n",
    "            tweet_collection.insert_one(status._json)\n",
    "        except:\n",
    "            pass\n",
    "  \n",
    "    def on_error(self, status_code):\n",
    "        if status_code == 420:\n",
    "            #returning False in on_data disconnects the stream\n",
    "            return False\n",
    "myStreamListener = MyStreamListener()\n",
    "myStream = tweepy.Stream(auth = strem_api.auth, listener=myStreamListener)\n",
    "myStream.filter(track=track)#  (locations = locations)   #Use either track or locations"
   ]
  },
  {
   "cell_type": "markdown",
   "metadata": {},
   "source": [
    "## Use the REST API to Collect Tweets"
   ]
  },
  {
   "cell_type": "markdown",
   "metadata": {},
   "source": [
    "Authorize the REST API "
   ]
  },
  {
   "cell_type": "code",
   "execution_count": 13,
   "metadata": {},
   "outputs": [],
   "source": [
    "rest_auth = twitter.oauth.OAuth(OAUTH_TOKEN,OATH_TOKEN_SECRET,CONSUMER_KEY,CONSUMER_SECRET)\n",
    "rest_api = twitter.Twitter(auth=rest_auth)"
   ]
  },
  {
   "cell_type": "markdown",
   "metadata": {},
   "source": [
    "Define the query for the REST API"
   ]
  },
  {
   "cell_type": "code",
   "execution_count": 18,
   "metadata": {},
   "outputs": [],
   "source": [
    "count = 100 #number of returned tweets, default and max is 100\n",
    "geocode = \"38.4392897,-78.9412224,50mi\"  # defin the location, in Harrisonburg, VA\n",
    "q = \"COVID19\"                               #define the keywords, tweets contain election"
   ]
  },
  {
   "cell_type": "markdown",
   "metadata": {},
   "source": [
    "The collected tweets will contain 'election' <span style=\"color:red;font-weight:bold\"> AND </span> are located in Harrisonburg, VA"
   ]
  },
  {
   "cell_type": "code",
   "execution_count": 19,
   "metadata": {},
   "outputs": [
    {
     "name": "stdout",
     "output_type": "stream",
     "text": [
      "'Tue Nov 30 18:24:07 +0000 2021'\n",
      "'Tue Nov 30 16:35:37 +0000 2021'\n",
      "'Tue Nov 30 14:50:08 +0000 2021'\n",
      "'Tue Nov 30 14:45:16 +0000 2021'\n",
      "'Tue Nov 30 14:14:25 +0000 2021'\n",
      "'Tue Nov 30 14:09:53 +0000 2021'\n",
      "'Tue Nov 30 13:55:45 +0000 2021'\n",
      "'Tue Nov 30 13:08:56 +0000 2021'\n",
      "'Tue Nov 30 12:53:58 +0000 2021'\n",
      "'Tue Nov 30 06:54:15 +0000 2021'\n",
      "'Tue Nov 30 03:55:00 +0000 2021'\n",
      "'Tue Nov 30 03:11:22 +0000 2021'\n",
      "'Tue Nov 30 01:35:49 +0000 2021'\n",
      "'Mon Nov 29 21:20:38 +0000 2021'\n",
      "'Mon Nov 29 21:07:49 +0000 2021'\n",
      "'Mon Nov 29 20:52:30 +0000 2021'\n",
      "'Mon Nov 29 20:14:48 +0000 2021'\n",
      "'Mon Nov 29 18:58:12 +0000 2021'\n",
      "'Mon Nov 29 18:26:09 +0000 2021'\n",
      "'Mon Nov 29 18:08:55 +0000 2021'\n",
      "'Mon Nov 29 17:27:07 +0000 2021'\n",
      "'Mon Nov 29 16:01:22 +0000 2021'\n",
      "'Mon Nov 29 15:25:42 +0000 2021'\n",
      "'Mon Nov 29 14:36:01 +0000 2021'\n",
      "'Mon Nov 29 14:10:04 +0000 2021'\n",
      "'Mon Nov 29 13:15:01 +0000 2021'\n",
      "'Mon Nov 29 12:25:24 +0000 2021'\n",
      "'Mon Nov 29 12:07:35 +0000 2021'\n",
      "'Mon Nov 29 11:36:55 +0000 2021'\n",
      "'Mon Nov 29 11:29:48 +0000 2021'\n",
      "'Mon Nov 29 11:23:03 +0000 2021'\n",
      "'Mon Nov 29 11:13:54 +0000 2021'\n",
      "'Mon Nov 29 10:24:08 +0000 2021'\n",
      "'Mon Nov 29 07:00:16 +0000 2021'\n",
      "'Mon Nov 29 03:56:19 +0000 2021'\n",
      "'Mon Nov 29 02:58:47 +0000 2021'\n",
      "'Mon Nov 29 02:19:27 +0000 2021'\n",
      "'Sun Nov 28 21:16:52 +0000 2021'\n",
      "'Sun Nov 28 20:34:50 +0000 2021'\n",
      "'Sun Nov 28 20:30:05 +0000 2021'\n",
      "'Sun Nov 28 18:46:52 +0000 2021'\n",
      "'Sun Nov 28 17:42:43 +0000 2021'\n",
      "'Sun Nov 28 16:34:01 +0000 2021'\n",
      "'Sun Nov 28 16:33:06 +0000 2021'\n",
      "'Sun Nov 28 16:11:35 +0000 2021'\n",
      "'Sun Nov 28 15:00:26 +0000 2021'\n",
      "'Sun Nov 28 14:37:33 +0000 2021'\n",
      "'Sun Nov 28 13:42:29 +0000 2021'\n",
      "'Sun Nov 28 10:26:23 +0000 2021'\n",
      "'Sun Nov 28 09:09:05 +0000 2021'\n",
      "'Sun Nov 28 08:00:12 +0000 2021'\n",
      "'Sun Nov 28 07:53:35 +0000 2021'\n",
      "'Sun Nov 28 06:20:51 +0000 2021'\n",
      "'Sun Nov 28 05:17:42 +0000 2021'\n",
      "'Sun Nov 28 04:56:54 +0000 2021'\n",
      "'Sun Nov 28 04:51:07 +0000 2021'\n",
      "'Sun Nov 28 04:47:40 +0000 2021'\n",
      "'Sun Nov 28 04:45:15 +0000 2021'\n",
      "'Sun Nov 28 03:40:43 +0000 2021'\n",
      "'Sun Nov 28 03:39:24 +0000 2021'\n",
      "'Sun Nov 28 03:06:48 +0000 2021'\n",
      "'Sat Nov 27 23:41:15 +0000 2021'\n",
      "'Sat Nov 27 21:05:14 +0000 2021'\n",
      "'Sat Nov 27 21:00:19 +0000 2021'\n",
      "'Sat Nov 27 20:47:59 +0000 2021'\n",
      "'Sat Nov 27 20:42:38 +0000 2021'\n",
      "'Sat Nov 27 20:00:17 +0000 2021'\n",
      "'Sat Nov 27 19:54:05 +0000 2021'\n",
      "'Sat Nov 27 19:36:25 +0000 2021'\n",
      "'Sat Nov 27 19:27:12 +0000 2021'\n",
      "'Sat Nov 27 18:58:17 +0000 2021'\n",
      "'Sat Nov 27 17:53:22 +0000 2021'\n",
      "'Sat Nov 27 17:09:54 +0000 2021'\n",
      "'Sat Nov 27 17:07:30 +0000 2021'\n",
      "'Sat Nov 27 16:52:51 +0000 2021'\n",
      "'Sat Nov 27 16:22:58 +0000 2021'\n",
      "'Sat Nov 27 15:58:49 +0000 2021'\n",
      "'Sat Nov 27 15:33:13 +0000 2021'\n",
      "'Sat Nov 27 13:51:10 +0000 2021'\n",
      "'Sat Nov 27 13:00:19 +0000 2021'\n",
      "'Sat Nov 27 10:00:13 +0000 2021'\n",
      "'Sat Nov 27 04:05:07 +0000 2021'\n",
      "'Sat Nov 27 03:49:04 +0000 2021'\n",
      "'Sat Nov 27 02:55:54 +0000 2021'\n",
      "'Sat Nov 27 02:16:39 +0000 2021'\n",
      "'Fri Nov 26 20:20:54 +0000 2021'\n",
      "'Fri Nov 26 20:17:33 +0000 2021'\n",
      "'Fri Nov 26 18:24:01 +0000 2021'\n",
      "'Fri Nov 26 18:06:53 +0000 2021'\n",
      "'Fri Nov 26 18:01:51 +0000 2021'\n",
      "'Fri Nov 26 17:00:00 +0000 2021'\n",
      "'Fri Nov 26 16:03:03 +0000 2021'\n",
      "'Fri Nov 26 13:54:32 +0000 2021'\n",
      "'Fri Nov 26 13:30:31 +0000 2021'\n",
      "'Fri Nov 26 13:23:51 +0000 2021'\n",
      "'Fri Nov 26 09:26:00 +0000 2021'\n",
      "'Fri Nov 26 08:26:34 +0000 2021'\n",
      "'Fri Nov 26 02:45:42 +0000 2021'\n",
      "'Thu Nov 25 22:01:00 +0000 2021'\n",
      "'Thu Nov 25 20:03:13 +0000 2021'\n"
     ]
    }
   ],
   "source": [
    "search_results = rest_api.search.tweets( count=count,q=q, geocode=geocode) #you can use both q and geocode\n",
    "statuses = search_results[\"statuses\"]\n",
    "since_id_new = statuses[-1]['id']\n",
    "for statuse in statuses:\n",
    "    try:\n",
    "        tweet_collection.insert_one(statuse)\n",
    "        pprint(statuse['created_at'])# print the date of the collected tweets\n",
    "    except:\n",
    "        pass"
   ]
  },
  {
   "cell_type": "markdown",
   "metadata": {},
   "source": [
    "Continue fetching early tweets with the same query. \n",
    "<p><span style=\"color:red;font-weight:bold\">YOU WILL REACH YOUR RATE LIMIT VERY FAST</span></p>"
   ]
  },
  {
   "cell_type": "code",
   "execution_count": 23,
   "metadata": {
    "scrolled": false
   },
   "outputs": [],
   "source": [
    "since_id_old = 0\n",
    "while(since_id_new != since_id_old):\n",
    "    since_id_old = since_id_new\n",
    "    search_results = rest_api.search.tweets( count=count,q=q,\n",
    "                        geocode=geocode, max_id= since_id_new)\n",
    "    statuses = search_results[\"statuses\"]\n",
    "    since_id_new = statuses[-1]['id']\n",
    "    for statuse in statuses:\n",
    "        try:\n",
    "            tweet_collection.insert_one(statuse)\n",
    "            pprint(statuse['created_at']) # print the date of the collected tweets\n",
    "        except:\n",
    "            pass"
   ]
  },
  {
   "cell_type": "markdown",
   "metadata": {},
   "source": [
    "## View the Collected Tweets"
   ]
  },
  {
   "cell_type": "markdown",
   "metadata": {},
   "source": [
    "Print the number of tweets and unique twitter users"
   ]
  },
  {
   "cell_type": "code",
   "execution_count": 24,
   "metadata": {},
   "outputs": [
    {
     "name": "stdout",
     "output_type": "stream",
     "text": [
      "379\n",
      "199\n"
     ]
    }
   ],
   "source": [
    "print(tweet_collection.estimated_document_count())# number of tweets collected\n",
    "\n",
    "user_cursor = tweet_collection.distinct(\"user.id\")\n",
    "print (len(user_cursor)) # number of unique Twitter users "
   ]
  },
  {
   "cell_type": "markdown",
   "metadata": {},
   "source": [
    "Create a text index and print the Tweets containing specific keywords. "
   ]
  },
  {
   "cell_type": "code",
   "execution_count": 25,
   "metadata": {
    "scrolled": false
   },
   "outputs": [
    {
     "data": {
      "text/plain": [
       "'text_index'"
      ]
     },
     "execution_count": 25,
     "metadata": {},
     "output_type": "execute_result"
    }
   ],
   "source": [
    "tweet_collection.create_index([(\"text\", pymongo.TEXT)], name='text_index', default_language='english') # create a text index\n"
   ]
  },
  {
   "cell_type": "markdown",
   "metadata": {},
   "source": [
    "Create a cursor to query tweets with the created index"
   ]
  },
  {
   "cell_type": "code",
   "execution_count": 26,
   "metadata": {},
   "outputs": [],
   "source": [
    "tweet_cursor = tweet_collection.find({\"$text\": {\"$search\": \"covid\"}}) # return tweets contain vote"
   ]
  },
  {
   "cell_type": "markdown",
   "metadata": {},
   "source": [
    "Use pprint to display tweets"
   ]
  },
  {
   "cell_type": "code",
   "execution_count": 27,
   "metadata": {
    "scrolled": false
   },
   "outputs": [
    {
     "name": "stdout",
     "output_type": "stream",
     "text": [
      "----\n",
      "name: Mary Crain\n",
      "text: @AGRutledge In 2020 - 182 officer COVID deaths in US. The 2021 Covid deaths so far are 285.  They need a plan to he… https://t.co/SfpXHLY1nD\n",
      "----\n",
      "name: Heerak Christian Kim for US Congress (Virginia-8)\n",
      "text: Will Dr. Fauci's worst nightmare about COVID MUTANT Omicron come true with Omicron evading all COVID vaccines?\n",
      "\n",
      "Wha… https://t.co/ZVB5jHFtpF\n",
      "----\n",
      "name: Ebony Jade Hilton, MD\n",
      "text: @kisswithah @DrJasonJohnson The laxity by which we describe #COVID from the very beginning has always troubled me.… https://t.co/yXwy1kDRIF\n",
      "----\n",
      "name: Nana Ataa\n",
      "text: ‘Dramatic spike’ in eating disorder hospitalizations occurred during COVID-19 pandemic https://t.co/cr8yR4FZaX\n",
      "----\n",
      "name: Heerak Christian Kim for US Congress (Virginia-8)\n",
      "text: Will @GOP fight @JoeBiden COVID Mandates in 2022 Election Year? https://t.co/OIiJP2whsK\n",
      "----\n",
      "name: Sandra L. Combs\n",
      "text: I had a ticket for today. I’m all boosted up but there will be another time. Praying for those with COVID. ⁦… https://t.co/qIlVo3ZD0A\n",
      "----\n",
      "name: UVA Department of Medicine\n",
      "text: Could Oral AntiViral Pills Be a Game-Changer for  COVID-19? @uvahealthnews @PEHJackson @UVA_ID #UVADoM… https://t.co/a7e7gDa5ph\n",
      "----\n",
      "name: UVA Department of Medicine\n",
      "text: The COVID-19 info you need for Thanksgiving from Dr. Petri @uvahealthnews @UVA_ID #UVADoM #COVID19… https://t.co/AcCZqczN8x\n",
      "----\n",
      "name: Jamie Dyer 🇵🇸\n",
      "text: @ND4LIFE1986 @cantieny1 @MzSgtPepper @joncoopertweets Covid decided the election. Hello?\n",
      "\n",
      "Sanders had far more popu… https://t.co/RuUMqDvuJV\n",
      "----\n",
      "name: Ebony Jade Hilton, MD\n",
      "text: It’s not that #Americans are ok w/ #COVID…Americans are just uncomfortably comfortable with #death in whatever form… https://t.co/8fz6CBfwat\n"
     ]
    }
   ],
   "source": [
    "\n",
    "for document in tweet_cursor[0:10]: # display the first 10 tweets from the query\n",
    "    try:\n",
    "        print ('----')\n",
    "#         pprint (document) # use pprint to print the entire tweet document\n",
    "   \n",
    "        print ('name:', document[\"user\"][\"name\"]) # user name\n",
    "        print ('text:', document[\"text\"])         # tweets\n",
    "    except:\n",
    "        print (\"***error in encoding\")\n",
    "        pass"
   ]
  },
  {
   "cell_type": "code",
   "execution_count": 28,
   "metadata": {},
   "outputs": [],
   "source": [
    "tweet_cursor = tweet_collection.find({\"$text\": {\"$search\": \"vote\"}}) # return tweets contain vote"
   ]
  },
  {
   "cell_type": "markdown",
   "metadata": {},
   "source": [
    "Use pandas to display tweets"
   ]
  },
  {
   "cell_type": "code",
   "execution_count": 29,
   "metadata": {},
   "outputs": [
    {
     "data": {
      "text/html": [
       "<div>\n",
       "<style scoped>\n",
       "    .dataframe tbody tr th:only-of-type {\n",
       "        vertical-align: middle;\n",
       "    }\n",
       "\n",
       "    .dataframe tbody tr th {\n",
       "        vertical-align: top;\n",
       "    }\n",
       "\n",
       "    .dataframe thead th {\n",
       "        text-align: right;\n",
       "    }\n",
       "</style>\n",
       "<table border=\"1\" class=\"dataframe\">\n",
       "  <thead>\n",
       "    <tr style=\"text-align: right;\">\n",
       "      <th></th>\n",
       "      <th>_id</th>\n",
       "      <th>created_at</th>\n",
       "      <th>id</th>\n",
       "      <th>id_str</th>\n",
       "      <th>text</th>\n",
       "      <th>truncated</th>\n",
       "      <th>entities</th>\n",
       "      <th>metadata</th>\n",
       "      <th>source</th>\n",
       "      <th>in_reply_to_status_id</th>\n",
       "      <th>...</th>\n",
       "      <th>is_quote_status</th>\n",
       "      <th>retweet_count</th>\n",
       "      <th>favorite_count</th>\n",
       "      <th>favorited</th>\n",
       "      <th>retweeted</th>\n",
       "      <th>lang</th>\n",
       "      <th>possibly_sensitive</th>\n",
       "      <th>quoted_status_id</th>\n",
       "      <th>quoted_status_id_str</th>\n",
       "      <th>quoted_status</th>\n",
       "    </tr>\n",
       "  </thead>\n",
       "  <tbody>\n",
       "    <tr>\n",
       "      <th>0</th>\n",
       "      <td>61a699987b4313071e6d6486</td>\n",
       "      <td>Wed Nov 24 20:28:03 +0000 2021</td>\n",
       "      <td>1463605354776956932</td>\n",
       "      <td>1463605354776956932</td>\n",
       "      <td>@brentbyan @RedPillDetox That's why we voted b...</td>\n",
       "      <td>False</td>\n",
       "      <td>{'hashtags': [], 'symbols': [], 'user_mentions...</td>\n",
       "      <td>{'iso_language_code': 'en', 'result_type': 're...</td>\n",
       "      <td>&lt;a href=\"https://mobile.twitter.com\" rel=\"nofo...</td>\n",
       "      <td>1.463594e+18</td>\n",
       "      <td>...</td>\n",
       "      <td>False</td>\n",
       "      <td>0</td>\n",
       "      <td>0</td>\n",
       "      <td>False</td>\n",
       "      <td>False</td>\n",
       "      <td>en</td>\n",
       "      <td>NaN</td>\n",
       "      <td>NaN</td>\n",
       "      <td>NaN</td>\n",
       "      <td>NaN</td>\n",
       "    </tr>\n",
       "    <tr>\n",
       "      <th>1</th>\n",
       "      <td>61a6999a7b4313071e6d64ca</td>\n",
       "      <td>Mon Nov 22 16:23:09 +0000 2021</td>\n",
       "      <td>1462818949041729539</td>\n",
       "      <td>1462818949041729539</td>\n",
       "      <td>@Maritza98178870 @joncoopertweets @JoeBiden Ne...</td>\n",
       "      <td>True</td>\n",
       "      <td>{'hashtags': [], 'symbols': [], 'user_mentions...</td>\n",
       "      <td>{'iso_language_code': 'en', 'result_type': 're...</td>\n",
       "      <td>&lt;a href=\"http://twitter.com/#!/download/ipad\" ...</td>\n",
       "      <td>1.462806e+18</td>\n",
       "      <td>...</td>\n",
       "      <td>False</td>\n",
       "      <td>1</td>\n",
       "      <td>1</td>\n",
       "      <td>False</td>\n",
       "      <td>False</td>\n",
       "      <td>en</td>\n",
       "      <td>NaN</td>\n",
       "      <td>NaN</td>\n",
       "      <td>NaN</td>\n",
       "      <td>NaN</td>\n",
       "    </tr>\n",
       "    <tr>\n",
       "      <th>2</th>\n",
       "      <td>61a699997b4313071e6d64a7</td>\n",
       "      <td>Tue Nov 23 17:45:47 +0000 2021</td>\n",
       "      <td>1463202132027396105</td>\n",
       "      <td>1463202132027396105</td>\n",
       "      <td>Ranked Choice Voting Survived Its Biggest Elec...</td>\n",
       "      <td>False</td>\n",
       "      <td>{'hashtags': [], 'symbols': [], 'user_mentions...</td>\n",
       "      <td>{'iso_language_code': 'en', 'result_type': 're...</td>\n",
       "      <td>&lt;a href=\"http://twitter.com/download/iphone\" r...</td>\n",
       "      <td>NaN</td>\n",
       "      <td>...</td>\n",
       "      <td>False</td>\n",
       "      <td>20</td>\n",
       "      <td>38</td>\n",
       "      <td>False</td>\n",
       "      <td>False</td>\n",
       "      <td>en</td>\n",
       "      <td>False</td>\n",
       "      <td>NaN</td>\n",
       "      <td>NaN</td>\n",
       "      <td>NaN</td>\n",
       "    </tr>\n",
       "    <tr>\n",
       "      <th>3</th>\n",
       "      <td>61a699997b4313071e6d649b</td>\n",
       "      <td>Wed Nov 24 01:40:37 +0000 2021</td>\n",
       "      <td>1463321624221040645</td>\n",
       "      <td>1463321624221040645</td>\n",
       "      <td>Thanksgiving 2021 is the greatest advertisemen...</td>\n",
       "      <td>True</td>\n",
       "      <td>{'hashtags': [], 'symbols': [], 'user_mentions...</td>\n",
       "      <td>{'iso_language_code': 'en', 'result_type': 're...</td>\n",
       "      <td>&lt;a href=\"http://twitter.com/download/android\" ...</td>\n",
       "      <td>NaN</td>\n",
       "      <td>...</td>\n",
       "      <td>False</td>\n",
       "      <td>2</td>\n",
       "      <td>0</td>\n",
       "      <td>False</td>\n",
       "      <td>False</td>\n",
       "      <td>en</td>\n",
       "      <td>False</td>\n",
       "      <td>NaN</td>\n",
       "      <td>NaN</td>\n",
       "      <td>NaN</td>\n",
       "    </tr>\n",
       "    <tr>\n",
       "      <th>4</th>\n",
       "      <td>61a6998d7b4313071e6d6455</td>\n",
       "      <td>Sat Nov 27 15:59:54 +0000 2021</td>\n",
       "      <td>1464625034715144199</td>\n",
       "      <td>1464625034715144199</td>\n",
       "      <td>@TPensions Pensioners hold the key votes in an...</td>\n",
       "      <td>True</td>\n",
       "      <td>{'hashtags': [], 'symbols': [], 'user_mentions...</td>\n",
       "      <td>{'iso_language_code': 'en', 'result_type': 're...</td>\n",
       "      <td>&lt;a href=\"https://mobile.twitter.com\" rel=\"nofo...</td>\n",
       "      <td>1.464352e+18</td>\n",
       "      <td>...</td>\n",
       "      <td>False</td>\n",
       "      <td>1</td>\n",
       "      <td>1</td>\n",
       "      <td>False</td>\n",
       "      <td>False</td>\n",
       "      <td>en</td>\n",
       "      <td>NaN</td>\n",
       "      <td>NaN</td>\n",
       "      <td>NaN</td>\n",
       "      <td>NaN</td>\n",
       "    </tr>\n",
       "    <tr>\n",
       "      <th>5</th>\n",
       "      <td>61a6998d7b4313071e6d6450</td>\n",
       "      <td>Sat Nov 27 16:51:56 +0000 2021</td>\n",
       "      <td>1464638128652750848</td>\n",
       "      <td>1464638128652750848</td>\n",
       "      <td>@februaryoracle @yesisworld And that’s exactly...</td>\n",
       "      <td>True</td>\n",
       "      <td>{'hashtags': [], 'symbols': [], 'user_mentions...</td>\n",
       "      <td>{'iso_language_code': 'en', 'result_type': 're...</td>\n",
       "      <td>&lt;a href=\"http://twitter.com/#!/download/ipad\" ...</td>\n",
       "      <td>1.464425e+18</td>\n",
       "      <td>...</td>\n",
       "      <td>False</td>\n",
       "      <td>0</td>\n",
       "      <td>0</td>\n",
       "      <td>False</td>\n",
       "      <td>False</td>\n",
       "      <td>en</td>\n",
       "      <td>NaN</td>\n",
       "      <td>NaN</td>\n",
       "      <td>NaN</td>\n",
       "      <td>NaN</td>\n",
       "    </tr>\n",
       "    <tr>\n",
       "      <th>6</th>\n",
       "      <td>61a6998d7b4313071e6d6435</td>\n",
       "      <td>Sun Nov 28 19:16:22 +0000 2021</td>\n",
       "      <td>1465036866449723402</td>\n",
       "      <td>1465036866449723402</td>\n",
       "      <td>These awesome #PostcardsToVoters are on their ...</td>\n",
       "      <td>True</td>\n",
       "      <td>{'hashtags': [{'text': 'PostcardsToVoters', 'i...</td>\n",
       "      <td>{'iso_language_code': 'en', 'result_type': 're...</td>\n",
       "      <td>&lt;a href=\"http://twitter.com/download/android\" ...</td>\n",
       "      <td>NaN</td>\n",
       "      <td>...</td>\n",
       "      <td>True</td>\n",
       "      <td>2</td>\n",
       "      <td>7</td>\n",
       "      <td>False</td>\n",
       "      <td>False</td>\n",
       "      <td>en</td>\n",
       "      <td>False</td>\n",
       "      <td>1.465022e+18</td>\n",
       "      <td>1465021532799864834</td>\n",
       "      <td>{'created_at': 'Sun Nov 28 18:15:26 +0000 2021...</td>\n",
       "    </tr>\n",
       "    <tr>\n",
       "      <th>7</th>\n",
       "      <td>61a6999a7b4313071e6d64c6</td>\n",
       "      <td>Mon Nov 22 22:52:12 +0000 2021</td>\n",
       "      <td>1462916856117927941</td>\n",
       "      <td>1462916856117927941</td>\n",
       "      <td>a #USAH8R:\\n\\nCa. Congressperson Mike Garcia @...</td>\n",
       "      <td>True</td>\n",
       "      <td>{'hashtags': [{'text': 'USAH8R', 'indices': [2...</td>\n",
       "      <td>{'iso_language_code': 'en', 'result_type': 're...</td>\n",
       "      <td>&lt;a href=\"http://twitter.com/download/iphone\" r...</td>\n",
       "      <td>NaN</td>\n",
       "      <td>...</td>\n",
       "      <td>False</td>\n",
       "      <td>1</td>\n",
       "      <td>4</td>\n",
       "      <td>False</td>\n",
       "      <td>False</td>\n",
       "      <td>en</td>\n",
       "      <td>False</td>\n",
       "      <td>NaN</td>\n",
       "      <td>NaN</td>\n",
       "      <td>NaN</td>\n",
       "    </tr>\n",
       "    <tr>\n",
       "      <th>8</th>\n",
       "      <td>61a699997b4313071e6d6492</td>\n",
       "      <td>Wed Nov 24 12:17:42 +0000 2021</td>\n",
       "      <td>1463481953731190784</td>\n",
       "      <td>1463481953731190784</td>\n",
       "      <td>@RogerHelmerMEP I expect another race bating d...</td>\n",
       "      <td>True</td>\n",
       "      <td>{'hashtags': [], 'symbols': [], 'user_mentions...</td>\n",
       "      <td>{'iso_language_code': 'en', 'result_type': 're...</td>\n",
       "      <td>&lt;a href=\"http://twitter.com/#!/download/ipad\" ...</td>\n",
       "      <td>1.463464e+18</td>\n",
       "      <td>...</td>\n",
       "      <td>False</td>\n",
       "      <td>0</td>\n",
       "      <td>0</td>\n",
       "      <td>False</td>\n",
       "      <td>False</td>\n",
       "      <td>en</td>\n",
       "      <td>NaN</td>\n",
       "      <td>NaN</td>\n",
       "      <td>NaN</td>\n",
       "      <td>NaN</td>\n",
       "    </tr>\n",
       "    <tr>\n",
       "      <th>9</th>\n",
       "      <td>61a6998c7b4313071e6d6412</td>\n",
       "      <td>Mon Nov 29 23:52:23 +0000 2021</td>\n",
       "      <td>1465468716624355333</td>\n",
       "      <td>1465468716624355333</td>\n",
       "      <td>@RonnyJacksonTX Hey genius. You do get that we...</td>\n",
       "      <td>True</td>\n",
       "      <td>{'hashtags': [], 'symbols': [], 'user_mentions...</td>\n",
       "      <td>{'iso_language_code': 'en', 'result_type': 're...</td>\n",
       "      <td>&lt;a href=\"https://mobile.twitter.com\" rel=\"nofo...</td>\n",
       "      <td>1.464697e+18</td>\n",
       "      <td>...</td>\n",
       "      <td>False</td>\n",
       "      <td>0</td>\n",
       "      <td>0</td>\n",
       "      <td>False</td>\n",
       "      <td>False</td>\n",
       "      <td>en</td>\n",
       "      <td>NaN</td>\n",
       "      <td>NaN</td>\n",
       "      <td>NaN</td>\n",
       "      <td>NaN</td>\n",
       "    </tr>\n",
       "  </tbody>\n",
       "</table>\n",
       "<p>10 rows × 29 columns</p>\n",
       "</div>"
      ],
      "text/plain": [
       "                        _id                      created_at  \\\n",
       "0  61a699987b4313071e6d6486  Wed Nov 24 20:28:03 +0000 2021   \n",
       "1  61a6999a7b4313071e6d64ca  Mon Nov 22 16:23:09 +0000 2021   \n",
       "2  61a699997b4313071e6d64a7  Tue Nov 23 17:45:47 +0000 2021   \n",
       "3  61a699997b4313071e6d649b  Wed Nov 24 01:40:37 +0000 2021   \n",
       "4  61a6998d7b4313071e6d6455  Sat Nov 27 15:59:54 +0000 2021   \n",
       "5  61a6998d7b4313071e6d6450  Sat Nov 27 16:51:56 +0000 2021   \n",
       "6  61a6998d7b4313071e6d6435  Sun Nov 28 19:16:22 +0000 2021   \n",
       "7  61a6999a7b4313071e6d64c6  Mon Nov 22 22:52:12 +0000 2021   \n",
       "8  61a699997b4313071e6d6492  Wed Nov 24 12:17:42 +0000 2021   \n",
       "9  61a6998c7b4313071e6d6412  Mon Nov 29 23:52:23 +0000 2021   \n",
       "\n",
       "                    id               id_str  \\\n",
       "0  1463605354776956932  1463605354776956932   \n",
       "1  1462818949041729539  1462818949041729539   \n",
       "2  1463202132027396105  1463202132027396105   \n",
       "3  1463321624221040645  1463321624221040645   \n",
       "4  1464625034715144199  1464625034715144199   \n",
       "5  1464638128652750848  1464638128652750848   \n",
       "6  1465036866449723402  1465036866449723402   \n",
       "7  1462916856117927941  1462916856117927941   \n",
       "8  1463481953731190784  1463481953731190784   \n",
       "9  1465468716624355333  1465468716624355333   \n",
       "\n",
       "                                                text  truncated  \\\n",
       "0  @brentbyan @RedPillDetox That's why we voted b...      False   \n",
       "1  @Maritza98178870 @joncoopertweets @JoeBiden Ne...       True   \n",
       "2  Ranked Choice Voting Survived Its Biggest Elec...      False   \n",
       "3  Thanksgiving 2021 is the greatest advertisemen...       True   \n",
       "4  @TPensions Pensioners hold the key votes in an...       True   \n",
       "5  @februaryoracle @yesisworld And that’s exactly...       True   \n",
       "6  These awesome #PostcardsToVoters are on their ...       True   \n",
       "7  a #USAH8R:\\n\\nCa. Congressperson Mike Garcia @...       True   \n",
       "8  @RogerHelmerMEP I expect another race bating d...       True   \n",
       "9  @RonnyJacksonTX Hey genius. You do get that we...       True   \n",
       "\n",
       "                                            entities  \\\n",
       "0  {'hashtags': [], 'symbols': [], 'user_mentions...   \n",
       "1  {'hashtags': [], 'symbols': [], 'user_mentions...   \n",
       "2  {'hashtags': [], 'symbols': [], 'user_mentions...   \n",
       "3  {'hashtags': [], 'symbols': [], 'user_mentions...   \n",
       "4  {'hashtags': [], 'symbols': [], 'user_mentions...   \n",
       "5  {'hashtags': [], 'symbols': [], 'user_mentions...   \n",
       "6  {'hashtags': [{'text': 'PostcardsToVoters', 'i...   \n",
       "7  {'hashtags': [{'text': 'USAH8R', 'indices': [2...   \n",
       "8  {'hashtags': [], 'symbols': [], 'user_mentions...   \n",
       "9  {'hashtags': [], 'symbols': [], 'user_mentions...   \n",
       "\n",
       "                                            metadata  \\\n",
       "0  {'iso_language_code': 'en', 'result_type': 're...   \n",
       "1  {'iso_language_code': 'en', 'result_type': 're...   \n",
       "2  {'iso_language_code': 'en', 'result_type': 're...   \n",
       "3  {'iso_language_code': 'en', 'result_type': 're...   \n",
       "4  {'iso_language_code': 'en', 'result_type': 're...   \n",
       "5  {'iso_language_code': 'en', 'result_type': 're...   \n",
       "6  {'iso_language_code': 'en', 'result_type': 're...   \n",
       "7  {'iso_language_code': 'en', 'result_type': 're...   \n",
       "8  {'iso_language_code': 'en', 'result_type': 're...   \n",
       "9  {'iso_language_code': 'en', 'result_type': 're...   \n",
       "\n",
       "                                              source  in_reply_to_status_id  \\\n",
       "0  <a href=\"https://mobile.twitter.com\" rel=\"nofo...           1.463594e+18   \n",
       "1  <a href=\"http://twitter.com/#!/download/ipad\" ...           1.462806e+18   \n",
       "2  <a href=\"http://twitter.com/download/iphone\" r...                    NaN   \n",
       "3  <a href=\"http://twitter.com/download/android\" ...                    NaN   \n",
       "4  <a href=\"https://mobile.twitter.com\" rel=\"nofo...           1.464352e+18   \n",
       "5  <a href=\"http://twitter.com/#!/download/ipad\" ...           1.464425e+18   \n",
       "6  <a href=\"http://twitter.com/download/android\" ...                    NaN   \n",
       "7  <a href=\"http://twitter.com/download/iphone\" r...                    NaN   \n",
       "8  <a href=\"http://twitter.com/#!/download/ipad\" ...           1.463464e+18   \n",
       "9  <a href=\"https://mobile.twitter.com\" rel=\"nofo...           1.464697e+18   \n",
       "\n",
       "   ... is_quote_status  retweet_count favorite_count favorited retweeted lang  \\\n",
       "0  ...           False              0              0     False     False   en   \n",
       "1  ...           False              1              1     False     False   en   \n",
       "2  ...           False             20             38     False     False   en   \n",
       "3  ...           False              2              0     False     False   en   \n",
       "4  ...           False              1              1     False     False   en   \n",
       "5  ...           False              0              0     False     False   en   \n",
       "6  ...            True              2              7     False     False   en   \n",
       "7  ...           False              1              4     False     False   en   \n",
       "8  ...           False              0              0     False     False   en   \n",
       "9  ...           False              0              0     False     False   en   \n",
       "\n",
       "  possibly_sensitive quoted_status_id quoted_status_id_str  \\\n",
       "0                NaN              NaN                  NaN   \n",
       "1                NaN              NaN                  NaN   \n",
       "2              False              NaN                  NaN   \n",
       "3              False              NaN                  NaN   \n",
       "4                NaN              NaN                  NaN   \n",
       "5                NaN              NaN                  NaN   \n",
       "6              False     1.465022e+18  1465021532799864834   \n",
       "7              False              NaN                  NaN   \n",
       "8                NaN              NaN                  NaN   \n",
       "9                NaN              NaN                  NaN   \n",
       "\n",
       "                                       quoted_status  \n",
       "0                                                NaN  \n",
       "1                                                NaN  \n",
       "2                                                NaN  \n",
       "3                                                NaN  \n",
       "4                                                NaN  \n",
       "5                                                NaN  \n",
       "6  {'created_at': 'Sun Nov 28 18:15:26 +0000 2021...  \n",
       "7                                                NaN  \n",
       "8                                                NaN  \n",
       "9                                                NaN  \n",
       "\n",
       "[10 rows x 29 columns]"
      ]
     },
     "execution_count": 29,
     "metadata": {},
     "output_type": "execute_result"
    }
   ],
   "source": [
    "tweet_df = pd.DataFrame(list(tweet_cursor ))\n",
    "tweet_df[:10] #display the first 10 tweets"
   ]
  },
  {
   "cell_type": "code",
   "execution_count": 30,
   "metadata": {},
   "outputs": [
    {
     "data": {
      "text/plain": [
       "<AxesSubplot:>"
      ]
     },
     "execution_count": 30,
     "metadata": {},
     "output_type": "execute_result"
    },
    {
     "data": {
      "image/png": "[encoded data removed]",
      "text/plain": [
       "<Figure size 432x288 with 1 Axes>"
      ]
     },
     "metadata": {
      "needs_background": "light"
     },
     "output_type": "display_data"
    }
   ],
   "source": [
    "tweet_df[\"favorite_count\"].hist() # create a histogram show the favorite count"
   ]
  },
  {
   "cell_type": "code",
   "execution_count": null,
   "metadata": {},
   "outputs": [],
   "source": []
  }
 ],
 "metadata": {
  "kernelspec": {
   "display_name": "conda_python3",
   "language": "python",
   "name": "conda_python3"
  },
  "language_info": {
   "codemirror_mode": {
    "name": "ipython",
    "version": 3
   },
   "file_extension": ".py",
   "mimetype": "text/x-python",
   "name": "python",
   "nbconvert_exporter": "python",
   "pygments_lexer": "ipython3",
   "version": "3.6.13"
  }
 },
 "nbformat": 4,
 "nbformat_minor": 2
}
