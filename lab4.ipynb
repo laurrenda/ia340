{
 "cells": [
  {
   "cell_type": "markdown",
   "id": "76f02497",
   "metadata": {},
   "source": [
    "# import python libs"
   ]
  },
  {
   "cell_type": "code",
   "execution_count": 3,
   "id": "1f34f5b6",
   "metadata": {},
   "outputs": [
    {
     "name": "stderr",
     "output_type": "stream",
     "text": [
      "/home/ec2-user/anaconda3/envs/python3/lib/python3.6/site-packages/psycopg2/__init__.py:144: UserWarning: The psycopg2 wheel package will be renamed from release 2.8; in order to keep installing from binary please use \"pip install psycopg2-binary\" instead. For details see: <http://initd.org/psycopg/docs/install.html#binary-install-from-pypi>.\n",
      "  \"\"\")\n"
     ]
    }
   ],
   "source": [
    "import pandas\n",
    "import configparser\n",
    "import psycopg2"
   ]
  },
  {
   "cell_type": "markdown",
   "id": "e7ad6c68",
   "metadata": {},
   "source": [
    "Connect to db"
   ]
  },
  {
   "cell_type": "code",
   "execution_count": 4,
   "id": "190981b4",
   "metadata": {},
   "outputs": [],
   "source": [
    "config = configparser.ConfigParser()\n",
    "config.read('config.ini')\n",
    "\n",
    "host=config['myaws']['host']\n",
    "db=config['myaws']['db']\n",
    "user=config['myaws']['user']\n",
    "pwd = config['myaws']['pwd']\n",
    "\n",
    "conn = psycopg2.connect(  host=host,\n",
    "                       user=user,\n",
    "                       password = pwd,\n",
    "                       dbname=db)"
   ]
  },
  {
   "cell_type": "code",
   "execution_count": 5,
   "id": "6153a51c",
   "metadata": {},
   "outputs": [],
   "source": [
    "cur=conn.cursor()"
   ]
  },
  {
   "cell_type": "markdown",
   "id": "46d0e175",
   "metadata": {},
   "source": [
    "# Q1"
   ]
  },
  {
   "cell_type": "code",
   "execution_count": 6,
   "id": "b82bc233",
   "metadata": {},
   "outputs": [],
   "source": [
    "sql_stat = \"\"\"\n",
    "    select * from gp8.student\n",
    "    \n",
    "\"\"\""
   ]
  },
  {
   "cell_type": "code",
   "execution_count": 7,
   "id": "7af4c3e0",
   "metadata": {},
   "outputs": [
    {
     "data": {
      "text/html": [
       "<div>\n",
       "<style scoped>\n",
       "    .dataframe tbody tr th:only-of-type {\n",
       "        vertical-align: middle;\n",
       "    }\n",
       "\n",
       "    .dataframe tbody tr th {\n",
       "        vertical-align: top;\n",
       "    }\n",
       "\n",
       "    .dataframe thead th {\n",
       "        text-align: right;\n",
       "    }\n",
       "</style>\n",
       "<table border=\"1\" class=\"dataframe\">\n",
       "  <thead>\n",
       "    <tr style=\"text-align: right;\">\n",
       "      <th></th>\n",
       "      <th>s_email</th>\n",
       "      <th>s_name</th>\n",
       "      <th>major</th>\n",
       "    </tr>\n",
       "  </thead>\n",
       "  <tbody>\n",
       "    <tr>\n",
       "      <th>0</th>\n",
       "      <td>rendlr@dukes.jmu.edu</td>\n",
       "      <td>lauryn renda</td>\n",
       "      <td>intel</td>\n",
       "    </tr>\n",
       "    <tr>\n",
       "      <th>1</th>\n",
       "      <td>fairtb@dukes.jmu.edu</td>\n",
       "      <td>tim fairbanks</td>\n",
       "      <td>buisness</td>\n",
       "    </tr>\n",
       "    <tr>\n",
       "      <th>2</th>\n",
       "      <td>labcr@dukes.jmu.edu</td>\n",
       "      <td>chris labelle</td>\n",
       "      <td>sports man</td>\n",
       "    </tr>\n",
       "    <tr>\n",
       "      <th>3</th>\n",
       "      <td>lucge@dukes.jmu.edu</td>\n",
       "      <td>gianna lucchesi</td>\n",
       "      <td>psychology</td>\n",
       "    </tr>\n",
       "  </tbody>\n",
       "</table>\n",
       "</div>"
      ],
      "text/plain": [
       "                s_email           s_name       major\n",
       "0  rendlr@dukes.jmu.edu     lauryn renda       intel\n",
       "1  fairtb@dukes.jmu.edu    tim fairbanks   buisness \n",
       "2   labcr@dukes.jmu.edu    chris labelle  sports man\n",
       "3   lucge@dukes.jmu.edu  gianna lucchesi  psychology"
      ]
     },
     "execution_count": 7,
     "metadata": {},
     "output_type": "execute_result"
    }
   ],
   "source": [
    "df = pandas.read_sql_query(sql_stat,conn)\n",
    "df[:]"
   ]
  },
  {
   "cell_type": "markdown",
   "id": "75438786",
   "metadata": {},
   "source": [
    "# Q2"
   ]
  },
  {
   "cell_type": "code",
   "execution_count": 8,
   "id": "398d64c5",
   "metadata": {},
   "outputs": [],
   "source": [
    "sql_q2 = \"\"\"\n",
    "    select gp8.professor.p_name,\n",
    "    gp8.course.c_name\n",
    "    from gp8.professor\n",
    "    inner join gp8.course\n",
    "    on gp8.professor.p_email = gp8.course.p_email\n",
    "\"\"\""
   ]
  },
  {
   "cell_type": "code",
   "execution_count": 9,
   "id": "f6492265",
   "metadata": {},
   "outputs": [
    {
     "data": {
      "text/html": [
       "<div>\n",
       "<style scoped>\n",
       "    .dataframe tbody tr th:only-of-type {\n",
       "        vertical-align: middle;\n",
       "    }\n",
       "\n",
       "    .dataframe tbody tr th {\n",
       "        vertical-align: top;\n",
       "    }\n",
       "\n",
       "    .dataframe thead th {\n",
       "        text-align: right;\n",
       "    }\n",
       "</style>\n",
       "<table border=\"1\" class=\"dataframe\">\n",
       "  <thead>\n",
       "    <tr style=\"text-align: right;\">\n",
       "      <th></th>\n",
       "      <th>p_name</th>\n",
       "      <th>c_name</th>\n",
       "    </tr>\n",
       "  </thead>\n",
       "  <tbody>\n",
       "    <tr>\n",
       "      <th>0</th>\n",
       "      <td>xxuebin wei</td>\n",
       "      <td>data mining</td>\n",
       "    </tr>\n",
       "    <tr>\n",
       "      <th>1</th>\n",
       "      <td>noel hendrickson</td>\n",
       "      <td>futures exploration</td>\n",
       "    </tr>\n",
       "    <tr>\n",
       "      <th>2</th>\n",
       "      <td>tim walton</td>\n",
       "      <td>causal analysis\\n</td>\n",
       "    </tr>\n",
       "    <tr>\n",
       "      <th>3</th>\n",
       "      <td>Orlandrew Danzell</td>\n",
       "      <td>national security intelligence</td>\n",
       "    </tr>\n",
       "    <tr>\n",
       "      <th>4</th>\n",
       "      <td>Orlandrew Danzell</td>\n",
       "      <td>seminar on issues in intelligence</td>\n",
       "    </tr>\n",
       "  </tbody>\n",
       "</table>\n",
       "</div>"
      ],
      "text/plain": [
       "              p_name                              c_name\n",
       "0        xxuebin wei                         data mining\n",
       "1   noel hendrickson                 futures exploration\n",
       "2         tim walton                   causal analysis\\n\n",
       "3  Orlandrew Danzell      national security intelligence\n",
       "4  Orlandrew Danzell  seminar on issues in intelligence "
      ]
     },
     "execution_count": 9,
     "metadata": {},
     "output_type": "execute_result"
    }
   ],
   "source": [
    "df = pandas.read_sql_query(sql_q2,conn)\n",
    "df[:]"
   ]
  },
  {
   "cell_type": "markdown",
   "id": "b41e3e75",
   "metadata": {},
   "source": [
    "# Q3"
   ]
  },
  {
   "cell_type": "code",
   "execution_count": 10,
   "id": "6d645dd6",
   "metadata": {},
   "outputs": [],
   "source": [
    "sql_q3 = \"\"\" \n",
    "    select c_number,\n",
    "    count(c_number) as enrolled\n",
    "    from gp8.enroll_list\n",
    "    group by c_number\n",
    "    order by enrolled desc\n",
    "\"\"\""
   ]
  },
  {
   "cell_type": "code",
   "execution_count": 11,
   "id": "6c9a620e",
   "metadata": {},
   "outputs": [
    {
     "data": {
      "text/plain": [
       "<AxesSubplot:xlabel='c_number'>"
      ]
     },
     "execution_count": 11,
     "metadata": {},
     "output_type": "execute_result"
    },
    {
     "data": {
      "image/png": "[encoded data removed]",
      "text/plain": [
       "<Figure size 432x288 with 1 Axes>"
      ]
     },
     "metadata": {
      "needs_background": "light"
     },
     "output_type": "display_data"
    }
   ],
   "source": [
    "df = pandas.read_sql_query(sql_q3,conn)\n",
    "df.plot.bar(y='enrolled',x='c_number')"
   ]
  },
  {
   "cell_type": "markdown",
   "id": "66aef796",
   "metadata": {},
   "source": [
    "# Q4"
   ]
  },
  {
   "cell_type": "code",
   "execution_count": 12,
   "id": "3e8145b5",
   "metadata": {},
   "outputs": [],
   "source": [
    "sql_q4 = \"\"\" \n",
    "    select gp8.professor.p_name,\n",
    "    count(gp8.course.c_name) as teaching_number\n",
    "    from gp8.professor\n",
    "    inner join gp8.course\n",
    "    on gp8.professor.p_email = gp8.course.p_email\n",
    "    group by professor.p_name\n",
    "    order by teaching_number desc\n",
    "\"\"\""
   ]
  },
  {
   "cell_type": "code",
   "execution_count": 13,
   "id": "42e97ea2",
   "metadata": {},
   "outputs": [
    {
     "data": {
      "text/plain": [
       "<AxesSubplot:xlabel='p_name'>"
      ]
     },
     "execution_count": 13,
     "metadata": {},
     "output_type": "execute_result"
    },
    {
     "data": {
      "image/png": "[encoded data removed]",
      "text/plain": [
       "<Figure size 432x288 with 1 Axes>"
      ]
     },
     "metadata": {
      "needs_background": "light"
     },
     "output_type": "display_data"
    }
   ],
   "source": [
    "df= pandas.read_sql_query(sql_q4,conn)\n",
    "df.plot.bar(y='teaching_number',x='p_name')"
   ]
  },
  {
   "cell_type": "markdown",
   "id": "698fc69a",
   "metadata": {},
   "source": [
    "# Q5"
   ]
  },
  {
   "cell_type": "code",
   "execution_count": 17,
   "id": "7ed1175e",
   "metadata": {},
   "outputs": [
    {
     "name": "stdout",
     "output_type": "stream",
     "text": [
      "\n",
      "            insert into gp8.professor(p_email,p_name,p_office)\n",
      "            values('krenda@jmu.edu','Kelli Renda','engeo40')\n",
      "            \n"
     ]
    }
   ],
   "source": [
    "q5_insert_professor_sql = \"\"\"\n",
    "            insert into gp8.professor(p_email,p_name,p_office)\n",
    "            values('{}','{}','{}')\n",
    "            \"\"\".format('krenda@jmu.edu','Kelli Renda','engeo40')\n",
    "print(q5_insert_professor_sql)"
   ]
  },
  {
   "cell_type": "code",
   "execution_count": 18,
   "id": "b23fd423",
   "metadata": {},
   "outputs": [],
   "source": [
    "cur.execute(q5_insert_professor_sql)\n"
   ]
  },
  {
   "cell_type": "code",
   "execution_count": 19,
   "id": "adba040b",
   "metadata": {},
   "outputs": [],
   "source": [
    "conn.commit()"
   ]
  },
  {
   "cell_type": "code",
   "execution_count": 20,
   "id": "ac41c3da",
   "metadata": {},
   "outputs": [
    {
     "data": {
      "text/html": [
       "<div>\n",
       "<style scoped>\n",
       "    .dataframe tbody tr th:only-of-type {\n",
       "        vertical-align: middle;\n",
       "    }\n",
       "\n",
       "    .dataframe tbody tr th {\n",
       "        vertical-align: top;\n",
       "    }\n",
       "\n",
       "    .dataframe thead th {\n",
       "        text-align: right;\n",
       "    }\n",
       "</style>\n",
       "<table border=\"1\" class=\"dataframe\">\n",
       "  <thead>\n",
       "    <tr style=\"text-align: right;\">\n",
       "      <th></th>\n",
       "      <th>p_email</th>\n",
       "      <th>p_name</th>\n",
       "      <th>p_office</th>\n",
       "    </tr>\n",
       "  </thead>\n",
       "  <tbody>\n",
       "    <tr>\n",
       "      <th>0</th>\n",
       "      <td>hendrinx@jmu.edu\\n</td>\n",
       "      <td>noel hendrickson</td>\n",
       "      <td>None</td>\n",
       "    </tr>\n",
       "    <tr>\n",
       "      <th>1</th>\n",
       "      <td>marrinsp@jmu.edu</td>\n",
       "      <td>stephen marrin</td>\n",
       "      <td>engeo 2104</td>\n",
       "    </tr>\n",
       "    <tr>\n",
       "      <th>2</th>\n",
       "      <td>waltontr@jmu.edu\\n</td>\n",
       "      <td>tim walton</td>\n",
       "      <td>isat 326</td>\n",
       "    </tr>\n",
       "    <tr>\n",
       "      <th>3</th>\n",
       "      <td>weixxuebin@jmu.edu</td>\n",
       "      <td>xxuebin wei</td>\n",
       "      <td>engeo 112</td>\n",
       "    </tr>\n",
       "    <tr>\n",
       "      <th>4</th>\n",
       "      <td>danzo@jmu.edu</td>\n",
       "      <td>Orlandrew Danzell</td>\n",
       "      <td>ENGEO 2201</td>\n",
       "    </tr>\n",
       "    <tr>\n",
       "      <th>5</th>\n",
       "      <td>krob@jmu.edu</td>\n",
       "      <td>Kim Robinson</td>\n",
       "      <td>engeo 2125</td>\n",
       "    </tr>\n",
       "    <tr>\n",
       "      <th>6</th>\n",
       "      <td>krobin@jmu.edu</td>\n",
       "      <td>Kim Robinson</td>\n",
       "      <td>engeo 2125</td>\n",
       "    </tr>\n",
       "    <tr>\n",
       "      <th>7</th>\n",
       "      <td>jtang@jmu.edu</td>\n",
       "      <td>Jeff Tang</td>\n",
       "      <td>engeo 2225</td>\n",
       "    </tr>\n",
       "    <tr>\n",
       "      <th>8</th>\n",
       "      <td>krenda@jmu.edu</td>\n",
       "      <td>Kelli Renda</td>\n",
       "      <td>engeo40</td>\n",
       "    </tr>\n",
       "  </tbody>\n",
       "</table>\n",
       "</div>"
      ],
      "text/plain": [
       "              p_email             p_name    p_office\n",
       "0  hendrinx@jmu.edu\\n   noel hendrickson        None\n",
       "1    marrinsp@jmu.edu     stephen marrin  engeo 2104\n",
       "2  waltontr@jmu.edu\\n         tim walton    isat 326\n",
       "3  weixxuebin@jmu.edu        xxuebin wei   engeo 112\n",
       "4       danzo@jmu.edu  Orlandrew Danzell  ENGEO 2201\n",
       "5        krob@jmu.edu       Kim Robinson  engeo 2125\n",
       "6      krobin@jmu.edu       Kim Robinson  engeo 2125\n",
       "7       jtang@jmu.edu          Jeff Tang  engeo 2225\n",
       "8      krenda@jmu.edu        Kelli Renda     engeo40"
      ]
     },
     "execution_count": 20,
     "metadata": {},
     "output_type": "execute_result"
    }
   ],
   "source": [
    "df=pandas.read_sql_query('select * from gp8.professor',conn)\n",
    "df[:]"
   ]
  },
  {
   "cell_type": "code",
   "execution_count": 21,
   "id": "441c9e34",
   "metadata": {},
   "outputs": [
    {
     "name": "stdout",
     "output_type": "stream",
     "text": [
      "\n",
      "            insert into gp8.course(c_number,c_name,c_room,p_email)\n",
      "            values('IA244','LE Intel','ISAT340','krenda@jmu.edu')\n",
      "            \n"
     ]
    }
   ],
   "source": [
    "q5_insert_course_sql = \"\"\"\n",
    "            insert into gp8.course(c_number,c_name,c_room,p_email)\n",
    "            values('{}','{}','{}','{}')\n",
    "            \"\"\".format('IA244','LE Intel','ISAT340','krenda@jmu.edu')\n",
    "print(q5_insert_course_sql)"
   ]
  },
  {
   "cell_type": "code",
   "execution_count": 22,
   "id": "989d67ba",
   "metadata": {},
   "outputs": [],
   "source": [
    "cur.execute(q5_insert_course_sql)"
   ]
  },
  {
   "cell_type": "code",
   "execution_count": 23,
   "id": "8bcba6ef",
   "metadata": {},
   "outputs": [],
   "source": [
    "conn.commit()"
   ]
  },
  {
   "cell_type": "code",
   "execution_count": 24,
   "id": "df63d8d5",
   "metadata": {},
   "outputs": [
    {
     "data": {
      "text/html": [
       "<div>\n",
       "<style scoped>\n",
       "    .dataframe tbody tr th:only-of-type {\n",
       "        vertical-align: middle;\n",
       "    }\n",
       "\n",
       "    .dataframe tbody tr th {\n",
       "        vertical-align: top;\n",
       "    }\n",
       "\n",
       "    .dataframe thead th {\n",
       "        text-align: right;\n",
       "    }\n",
       "</style>\n",
       "<table border=\"1\" class=\"dataframe\">\n",
       "  <thead>\n",
       "    <tr style=\"text-align: right;\">\n",
       "      <th></th>\n",
       "      <th>c_number</th>\n",
       "      <th>c_name</th>\n",
       "      <th>c_room</th>\n",
       "      <th>p_email</th>\n",
       "    </tr>\n",
       "  </thead>\n",
       "  <tbody>\n",
       "    <tr>\n",
       "      <th>0</th>\n",
       "      <td>IA 340</td>\n",
       "      <td>data mining</td>\n",
       "      <td>isat 336</td>\n",
       "      <td>weixxuebin@jmu.edu</td>\n",
       "    </tr>\n",
       "    <tr>\n",
       "      <th>1</th>\n",
       "      <td>IA 313</td>\n",
       "      <td>futures exploration</td>\n",
       "      <td>engeo 1204</td>\n",
       "      <td>hendrinx@jmu.edu\\n</td>\n",
       "    </tr>\n",
       "    <tr>\n",
       "      <th>2</th>\n",
       "      <td>IA 285</td>\n",
       "      <td>causal analysis\\n</td>\n",
       "      <td>online</td>\n",
       "      <td>waltontr@jmu.edu\\n</td>\n",
       "    </tr>\n",
       "    <tr>\n",
       "      <th>3</th>\n",
       "      <td>IA 250</td>\n",
       "      <td>national security intelligence</td>\n",
       "      <td>ENGEO 2201</td>\n",
       "      <td>danzo@jmu.edu</td>\n",
       "    </tr>\n",
       "    <tr>\n",
       "      <th>4</th>\n",
       "      <td>IA 300</td>\n",
       "      <td>seminar on issues in intelligence</td>\n",
       "      <td>ISAT 150</td>\n",
       "      <td>danzo@jmu.edu</td>\n",
       "    </tr>\n",
       "    <tr>\n",
       "      <th>5</th>\n",
       "      <td>IA244</td>\n",
       "      <td>LE Intel</td>\n",
       "      <td>ISAT340</td>\n",
       "      <td>krenda@jmu.edu</td>\n",
       "    </tr>\n",
       "  </tbody>\n",
       "</table>\n",
       "</div>"
      ],
      "text/plain": [
       "  c_number                              c_name      c_room             p_email\n",
       "0   IA 340                         data mining    isat 336  weixxuebin@jmu.edu\n",
       "1   IA 313                 futures exploration  engeo 1204  hendrinx@jmu.edu\\n\n",
       "2   IA 285                   causal analysis\\n      online  waltontr@jmu.edu\\n\n",
       "3   IA 250      national security intelligence  ENGEO 2201       danzo@jmu.edu\n",
       "4   IA 300  seminar on issues in intelligence     ISAT 150       danzo@jmu.edu\n",
       "5    IA244                            LE Intel     ISAT340      krenda@jmu.edu"
      ]
     },
     "execution_count": 24,
     "metadata": {},
     "output_type": "execute_result"
    }
   ],
   "source": [
    "df=pandas.read_sql_query('select * from gp8.course',conn)\n",
    "df[:]"
   ]
  },
  {
   "cell_type": "code",
   "execution_count": 25,
   "id": "f0043ccd",
   "metadata": {},
   "outputs": [],
   "source": [
    "q6_update_course_sql =\"\"\"\n",
    "                    update gp8.course\n",
    "                    set p_email = '{}'\n",
    "                    where p_email ='{}'\n",
    "                    \"\"\".format('krenda@jmu.edu','danzo@jmu.edu')"
   ]
  },
  {
   "cell_type": "code",
   "execution_count": 26,
   "id": "ed5da57d",
   "metadata": {},
   "outputs": [],
   "source": [
    "cur.execute(q6_update_course_sql)"
   ]
  },
  {
   "cell_type": "code",
   "execution_count": 27,
   "id": "8ccf0590",
   "metadata": {},
   "outputs": [],
   "source": [
    "conn.commit()"
   ]
  },
  {
   "cell_type": "code",
   "execution_count": 28,
   "id": "caa73ccb",
   "metadata": {},
   "outputs": [
    {
     "data": {
      "text/html": [
       "<div>\n",
       "<style scoped>\n",
       "    .dataframe tbody tr th:only-of-type {\n",
       "        vertical-align: middle;\n",
       "    }\n",
       "\n",
       "    .dataframe tbody tr th {\n",
       "        vertical-align: top;\n",
       "    }\n",
       "\n",
       "    .dataframe thead th {\n",
       "        text-align: right;\n",
       "    }\n",
       "</style>\n",
       "<table border=\"1\" class=\"dataframe\">\n",
       "  <thead>\n",
       "    <tr style=\"text-align: right;\">\n",
       "      <th></th>\n",
       "      <th>c_number</th>\n",
       "      <th>c_name</th>\n",
       "      <th>c_room</th>\n",
       "      <th>p_email</th>\n",
       "    </tr>\n",
       "  </thead>\n",
       "  <tbody>\n",
       "    <tr>\n",
       "      <th>0</th>\n",
       "      <td>IA 340</td>\n",
       "      <td>data mining</td>\n",
       "      <td>isat 336</td>\n",
       "      <td>weixxuebin@jmu.edu</td>\n",
       "    </tr>\n",
       "    <tr>\n",
       "      <th>1</th>\n",
       "      <td>IA 313</td>\n",
       "      <td>futures exploration</td>\n",
       "      <td>engeo 1204</td>\n",
       "      <td>hendrinx@jmu.edu\\n</td>\n",
       "    </tr>\n",
       "    <tr>\n",
       "      <th>2</th>\n",
       "      <td>IA 285</td>\n",
       "      <td>causal analysis\\n</td>\n",
       "      <td>online</td>\n",
       "      <td>waltontr@jmu.edu\\n</td>\n",
       "    </tr>\n",
       "    <tr>\n",
       "      <th>3</th>\n",
       "      <td>IA244</td>\n",
       "      <td>LE Intel</td>\n",
       "      <td>ISAT340</td>\n",
       "      <td>krenda@jmu.edu</td>\n",
       "    </tr>\n",
       "    <tr>\n",
       "      <th>4</th>\n",
       "      <td>IA 250</td>\n",
       "      <td>national security intelligence</td>\n",
       "      <td>ENGEO 2201</td>\n",
       "      <td>krenda@jmu.edu</td>\n",
       "    </tr>\n",
       "    <tr>\n",
       "      <th>5</th>\n",
       "      <td>IA 300</td>\n",
       "      <td>seminar on issues in intelligence</td>\n",
       "      <td>ISAT 150</td>\n",
       "      <td>krenda@jmu.edu</td>\n",
       "    </tr>\n",
       "  </tbody>\n",
       "</table>\n",
       "</div>"
      ],
      "text/plain": [
       "  c_number                              c_name      c_room             p_email\n",
       "0   IA 340                         data mining    isat 336  weixxuebin@jmu.edu\n",
       "1   IA 313                 futures exploration  engeo 1204  hendrinx@jmu.edu\\n\n",
       "2   IA 285                   causal analysis\\n      online  waltontr@jmu.edu\\n\n",
       "3    IA244                            LE Intel     ISAT340      krenda@jmu.edu\n",
       "4   IA 250      national security intelligence  ENGEO 2201      krenda@jmu.edu\n",
       "5   IA 300  seminar on issues in intelligence     ISAT 150      krenda@jmu.edu"
      ]
     },
     "execution_count": 28,
     "metadata": {},
     "output_type": "execute_result"
    }
   ],
   "source": [
    "df=pandas.read_sql_query('select * from gp8.course',conn)\n",
    "df[:]"
   ]
  },
  {
   "cell_type": "code",
   "execution_count": 29,
   "id": "09b5c48a",
   "metadata": {},
   "outputs": [],
   "source": [
    "q6_delete_professor_sql = \"\"\"\n",
    "                            delete from gp8.professor\n",
    "                            where p_email='{}'\n",
    "                            \"\"\".format('danzo@jmu.edu')"
   ]
  },
  {
   "cell_type": "code",
   "execution_count": 30,
   "id": "c8d62abf",
   "metadata": {},
   "outputs": [],
   "source": [
    "cur.execute(q6_delete_professor_sql)"
   ]
  },
  {
   "cell_type": "code",
   "execution_count": 31,
   "id": "8287df9e",
   "metadata": {},
   "outputs": [],
   "source": [
    "conn.commit()"
   ]
  },
  {
   "cell_type": "code",
   "execution_count": 32,
   "id": "7ce61f21",
   "metadata": {},
   "outputs": [
    {
     "data": {
      "text/html": [
       "<div>\n",
       "<style scoped>\n",
       "    .dataframe tbody tr th:only-of-type {\n",
       "        vertical-align: middle;\n",
       "    }\n",
       "\n",
       "    .dataframe tbody tr th {\n",
       "        vertical-align: top;\n",
       "    }\n",
       "\n",
       "    .dataframe thead th {\n",
       "        text-align: right;\n",
       "    }\n",
       "</style>\n",
       "<table border=\"1\" class=\"dataframe\">\n",
       "  <thead>\n",
       "    <tr style=\"text-align: right;\">\n",
       "      <th></th>\n",
       "      <th>p_email</th>\n",
       "      <th>p_name</th>\n",
       "      <th>p_office</th>\n",
       "    </tr>\n",
       "  </thead>\n",
       "  <tbody>\n",
       "    <tr>\n",
       "      <th>0</th>\n",
       "      <td>hendrinx@jmu.edu\\n</td>\n",
       "      <td>noel hendrickson</td>\n",
       "      <td>None</td>\n",
       "    </tr>\n",
       "    <tr>\n",
       "      <th>1</th>\n",
       "      <td>marrinsp@jmu.edu</td>\n",
       "      <td>stephen marrin</td>\n",
       "      <td>engeo 2104</td>\n",
       "    </tr>\n",
       "    <tr>\n",
       "      <th>2</th>\n",
       "      <td>waltontr@jmu.edu\\n</td>\n",
       "      <td>tim walton</td>\n",
       "      <td>isat 326</td>\n",
       "    </tr>\n",
       "    <tr>\n",
       "      <th>3</th>\n",
       "      <td>weixxuebin@jmu.edu</td>\n",
       "      <td>xxuebin wei</td>\n",
       "      <td>engeo 112</td>\n",
       "    </tr>\n",
       "    <tr>\n",
       "      <th>4</th>\n",
       "      <td>krob@jmu.edu</td>\n",
       "      <td>Kim Robinson</td>\n",
       "      <td>engeo 2125</td>\n",
       "    </tr>\n",
       "    <tr>\n",
       "      <th>5</th>\n",
       "      <td>krobin@jmu.edu</td>\n",
       "      <td>Kim Robinson</td>\n",
       "      <td>engeo 2125</td>\n",
       "    </tr>\n",
       "    <tr>\n",
       "      <th>6</th>\n",
       "      <td>jtang@jmu.edu</td>\n",
       "      <td>Jeff Tang</td>\n",
       "      <td>engeo 2225</td>\n",
       "    </tr>\n",
       "    <tr>\n",
       "      <th>7</th>\n",
       "      <td>krenda@jmu.edu</td>\n",
       "      <td>Kelli Renda</td>\n",
       "      <td>engeo40</td>\n",
       "    </tr>\n",
       "  </tbody>\n",
       "</table>\n",
       "</div>"
      ],
      "text/plain": [
       "              p_email            p_name    p_office\n",
       "0  hendrinx@jmu.edu\\n  noel hendrickson        None\n",
       "1    marrinsp@jmu.edu    stephen marrin  engeo 2104\n",
       "2  waltontr@jmu.edu\\n        tim walton    isat 326\n",
       "3  weixxuebin@jmu.edu       xxuebin wei   engeo 112\n",
       "4        krob@jmu.edu      Kim Robinson  engeo 2125\n",
       "5      krobin@jmu.edu      Kim Robinson  engeo 2125\n",
       "6       jtang@jmu.edu         Jeff Tang  engeo 2225\n",
       "7      krenda@jmu.edu       Kelli Renda     engeo40"
      ]
     },
     "execution_count": 32,
     "metadata": {},
     "output_type": "execute_result"
    }
   ],
   "source": [
    "df=pandas.read_sql_query('select * from gp8.professor',conn)\n",
    "df[:]"
   ]
  },
  {
   "cell_type": "code",
   "execution_count": 33,
   "id": "638a9c11",
   "metadata": {},
   "outputs": [],
   "source": [
    "cur.close()"
   ]
  },
  {
   "cell_type": "code",
   "execution_count": 34,
   "id": "64dbb71b",
   "metadata": {},
   "outputs": [],
   "source": [
    "conn.close()"
   ]
  },
  {
   "cell_type": "code",
   "execution_count": null,
   "id": "ebd0312e",
   "metadata": {},
   "outputs": [],
   "source": []
  }
 ],
 "metadata": {
  "kernelspec": {
   "display_name": "conda_python3",
   "language": "python",
   "name": "conda_python3"
  },
  "language_info": {
   "codemirror_mode": {
    "name": "ipython",
    "version": 3
   },
   "file_extension": ".py",
   "mimetype": "text/x-python",
   "name": "python",
   "nbconvert_exporter": "python",
   "pygments_lexer": "ipython3",
   "version": "3.6.13"
  }
 },
 "nbformat": 4,
 "nbformat_minor": 5
}
